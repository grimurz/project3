{
 "cells": [
  {
   "cell_type": "markdown",
   "metadata": {},
   "source": [
    "# Project 3: Airbnb\n",
    "**This is the third of three mandatory projects to be handed in as part of the assessment for the course 02807 Computational Tools for Data Science at Technical University of Denmark, autumn 2019.**\n",
    "\n",
    "#### Practical info\n",
    "- **The project is to be done in groups of at most 3 students**\n",
    "- **Each group has to hand in _one_ Jupyter notebook (this notebook) with their solution**\n",
    "- **The hand-in of the notebook is due 2019-12-05, 23:59 on DTU Inside**\n",
    "\n",
    "#### Your solution\n",
    "- **Your solution should be in Python/PySpark**\n",
    "- **For each question you may use as many cells for your solution as you like**\n",
    "- **You should not remove the problem statements**\n",
    "- **Your notebook should be runnable, i.e., clicking [>>] in Jupyter should generate the result that you want to be assessed**\n",
    "- **You are not expected to use machine learning to solve any of the exercises**"
   ]
  },
  {
   "cell_type": "markdown",
   "metadata": {},
   "source": [
    "# Introduction\n",
    "[Airbnb](http://airbnb.com) is an online marketplace for arranging or offering lodgings. In this project you will use Spark to analyze data obtained from the Airbnb website. The purpose of the analysis is to extract information about trends and patterns from the data.\n",
    "\n",
    "The project has two parts.\n",
    "\n",
    "### Part 1: Loading, describing and preparing the data\n",
    "There's quite a lot of data. Make sure that you can load and correctly parse the data, and that you understand what the dataset contains. You should also prepare the data for the analysis in part two. This means cleaning it and staging it so that subsequent queries are fast.\n",
    "\n",
    "### Par 2: Analysis\n",
    "In this part your goal is to learn about trends and usage patterns from the data. You should give solutions to the tasks defined in this notebook, and you should use Spark to do the data processing. You may use other libraries like for instance Pandas and matplotlib for visualisation.\n",
    "\n",
    "## Guidelines\n",
    "- Processing data should be done using Spark. Once data has been reduced to aggregate form, you may use collect to extract it into Python for visualisation.\n",
    "- Your solutions will be evaluated by correctness, code quality and interpretability of the output. This means that you have to write clean and efficient Spark code that will generate sensible execution plans, and that the tables and visualisations that you produce are meaningful and easy to read.\n",
    "- You may add more cells for your solutions, but you should not modify the notebook otherwise."
   ]
  },
  {
   "cell_type": "markdown",
   "metadata": {},
   "source": [
    "### Create Spark session and define imports"
   ]
  },
  {
   "cell_type": "code",
   "execution_count": 1,
   "metadata": {},
   "outputs": [],
   "source": [
    "from pyspark.sql import *\n",
    "from pyspark.sql import functions as f\n",
    "from pyspark.sql.types import *\n",
    "from pyspark.sql.functions import col\n",
    "from pyspark.sql.functions import isnan\n",
    "import pandas as pd\n",
    "from pyspark.sql.functions import lower, col\n",
    "from urllib.request import urlopen\n",
    "import json\n",
    "import string\n",
    "\n",
    "spark = SparkSession.builder.appName(\"Project3\").getOrCreate()"
   ]
  },
  {
   "cell_type": "markdown",
   "metadata": {},
   "source": [
    "# Part 1: Loading, describing and preparing the data\n",
    "The data comes in two files. Start by downloading the files and putting them in your `data/` folder.\n",
    "\n",
    "- [Listings](https://files.dtu.dk/u/siPzAasj8w2gI_ME/listings.csv?l) (5 GB)\n",
    "- [Reviews](https://files.dtu.dk/u/k3oaPYp6GjKBeho4/reviews.csv?l) (9.5 GB)"
   ]
  },
  {
   "cell_type": "markdown",
   "metadata": {},
   "source": [
    "### Load the data\n",
    "The data has multiline rows (rows that span multiple lines in the file). To correctly parse these you should use the `multiline` option and set the `escape` character to be `\"`."
   ]
  },
  {
   "cell_type": "code",
   "execution_count": 2,
   "metadata": {},
   "outputs": [],
   "source": [
    "dfl = spark.read.option(\"multiLine\", True).option('header', True).option(\"escape\", \"\\\"\").csv('data/listings.csv')\n",
    "dfr = spark.read.option(\"multiLine\", True).option('header', True).option(\"escape\", \"\\\"\").csv('data/reviews.csv')   "
   ]
  },
  {
   "cell_type": "markdown",
   "metadata": {},
   "source": [
    "### Describe the data\n",
    "List the features (schema) and sizes of the datasets."
   ]
  },
  {
   "cell_type": "code",
   "execution_count": 3,
   "metadata": {},
   "outputs": [
    {
     "name": "stdout",
     "output_type": "stream",
     "text": [
      "Review rows: 29400608 Review columns: 6\n",
      "Listing rows: 408202 Listing columns: 106\n",
      "+----------+---------+----------+-----------+-------------+--------------------+\n",
      "|listing_id|       id|      date|reviewer_id|reviewer_name|            comments|\n",
      "+----------+---------+----------+-----------+-------------+--------------------+\n",
      "|    145320|156423122|2017-05-30|  123386382|        Erwin|Prima plek om Sto...|\n",
      "|    145320|170211906|2017-07-15|  123091743|         Anne|Cosy and clean fl...|\n",
      "|    145320|172169175|2017-07-20|      78004|     Patricia|The host canceled...|\n",
      "|    145320|176647581|2017-07-31|  103178743|    Charlotte|Kim's place was o...|\n",
      "|    145320|185676021|2017-08-22|    4023961|    Alexander|great spacious ap...|\n",
      "+----------+---------+----------+-----------+-------------+--------------------+\n",
      "only showing top 5 rows\n",
      "\n",
      "root\n",
      " |-- id: string (nullable = true)\n",
      " |-- listing_url: string (nullable = true)\n",
      " |-- scrape_id: string (nullable = true)\n",
      " |-- last_scraped: string (nullable = true)\n",
      " |-- name: string (nullable = true)\n",
      " |-- summary: string (nullable = true)\n",
      " |-- space: string (nullable = true)\n",
      " |-- description: string (nullable = true)\n",
      " |-- experiences_offered: string (nullable = true)\n",
      " |-- neighborhood_overview: string (nullable = true)\n",
      " |-- notes: string (nullable = true)\n",
      " |-- transit: string (nullable = true)\n",
      " |-- access: string (nullable = true)\n",
      " |-- interaction: string (nullable = true)\n",
      " |-- house_rules: string (nullable = true)\n",
      " |-- thumbnail_url: string (nullable = true)\n",
      " |-- medium_url: string (nullable = true)\n",
      " |-- picture_url: string (nullable = true)\n",
      " |-- xl_picture_url: string (nullable = true)\n",
      " |-- host_id: string (nullable = true)\n",
      " |-- host_url: string (nullable = true)\n",
      " |-- host_name: string (nullable = true)\n",
      " |-- host_since: string (nullable = true)\n",
      " |-- host_location: string (nullable = true)\n",
      " |-- host_about: string (nullable = true)\n",
      " |-- host_response_time: string (nullable = true)\n",
      " |-- host_response_rate: string (nullable = true)\n",
      " |-- host_acceptance_rate: string (nullable = true)\n",
      " |-- host_is_superhost: string (nullable = true)\n",
      " |-- host_thumbnail_url: string (nullable = true)\n",
      " |-- host_picture_url: string (nullable = true)\n",
      " |-- host_neighbourhood: string (nullable = true)\n",
      " |-- host_listings_count: string (nullable = true)\n",
      " |-- host_total_listings_count: string (nullable = true)\n",
      " |-- host_verifications: string (nullable = true)\n",
      " |-- host_has_profile_pic: string (nullable = true)\n",
      " |-- host_identity_verified: string (nullable = true)\n",
      " |-- street: string (nullable = true)\n",
      " |-- neighbourhood: string (nullable = true)\n",
      " |-- neighbourhood_cleansed: string (nullable = true)\n",
      " |-- neighbourhood_group_cleansed: string (nullable = true)\n",
      " |-- city: string (nullable = true)\n",
      " |-- state: string (nullable = true)\n",
      " |-- zipcode: string (nullable = true)\n",
      " |-- market: string (nullable = true)\n",
      " |-- smart_location: string (nullable = true)\n",
      " |-- country_code: string (nullable = true)\n",
      " |-- country: string (nullable = true)\n",
      " |-- latitude: string (nullable = true)\n",
      " |-- longitude: string (nullable = true)\n",
      " |-- is_location_exact: string (nullable = true)\n",
      " |-- property_type: string (nullable = true)\n",
      " |-- room_type: string (nullable = true)\n",
      " |-- accommodates: string (nullable = true)\n",
      " |-- bathrooms: string (nullable = true)\n",
      " |-- bedrooms: string (nullable = true)\n",
      " |-- beds: string (nullable = true)\n",
      " |-- bed_type: string (nullable = true)\n",
      " |-- amenities: string (nullable = true)\n",
      " |-- square_feet: string (nullable = true)\n",
      " |-- price: string (nullable = true)\n",
      " |-- weekly_price: string (nullable = true)\n",
      " |-- monthly_price: string (nullable = true)\n",
      " |-- security_deposit: string (nullable = true)\n",
      " |-- cleaning_fee: string (nullable = true)\n",
      " |-- guests_included: string (nullable = true)\n",
      " |-- extra_people: string (nullable = true)\n",
      " |-- minimum_nights: string (nullable = true)\n",
      " |-- maximum_nights: string (nullable = true)\n",
      " |-- minimum_minimum_nights: string (nullable = true)\n",
      " |-- maximum_minimum_nights: string (nullable = true)\n",
      " |-- minimum_maximum_nights: string (nullable = true)\n",
      " |-- maximum_maximum_nights: string (nullable = true)\n",
      " |-- minimum_nights_avg_ntm: string (nullable = true)\n",
      " |-- maximum_nights_avg_ntm: string (nullable = true)\n",
      " |-- calendar_updated: string (nullable = true)\n",
      " |-- has_availability: string (nullable = true)\n",
      " |-- availability_30: string (nullable = true)\n",
      " |-- availability_60: string (nullable = true)\n",
      " |-- availability_90: string (nullable = true)\n",
      " |-- availability_365: string (nullable = true)\n",
      " |-- calendar_last_scraped: string (nullable = true)\n",
      " |-- number_of_reviews: string (nullable = true)\n",
      " |-- number_of_reviews_ltm: string (nullable = true)\n",
      " |-- first_review: string (nullable = true)\n",
      " |-- last_review: string (nullable = true)\n",
      " |-- review_scores_rating: string (nullable = true)\n",
      " |-- review_scores_accuracy: string (nullable = true)\n",
      " |-- review_scores_cleanliness: string (nullable = true)\n",
      " |-- review_scores_checkin: string (nullable = true)\n",
      " |-- review_scores_communication: string (nullable = true)\n",
      " |-- review_scores_location: string (nullable = true)\n",
      " |-- review_scores_value: string (nullable = true)\n",
      " |-- requires_license: string (nullable = true)\n",
      " |-- license: string (nullable = true)\n",
      " |-- jurisdiction_names: string (nullable = true)\n",
      " |-- instant_bookable: string (nullable = true)\n",
      " |-- is_business_travel_ready: string (nullable = true)\n",
      " |-- cancellation_policy: string (nullable = true)\n",
      " |-- require_guest_profile_picture: string (nullable = true)\n",
      " |-- require_guest_phone_verification: string (nullable = true)\n",
      " |-- calculated_host_listings_count: string (nullable = true)\n",
      " |-- calculated_host_listings_count_entire_homes: string (nullable = true)\n",
      " |-- calculated_host_listings_count_private_rooms: string (nullable = true)\n",
      " |-- calculated_host_listings_count_shared_rooms: string (nullable = true)\n",
      " |-- reviews_per_month: string (nullable = true)\n",
      "\n"
     ]
    }
   ],
   "source": [
    "print(\"Review rows: \" + str(dfr.count()) + \" Review columns: \" + str(len(dfr.columns)))\n",
    "print(\"Listing rows: \" + str(dfl.count()) + \" Listing columns: \" + str(len(dfl.columns)))\n",
    "\n",
    "dfr.show(5)\n",
    "dfl.printSchema()"
   ]
  },
  {
   "cell_type": "markdown",
   "metadata": {},
   "source": [
    "### Prepare the data for analysis\n",
    "You should prepare two dataframes to be used in the analysis part of the project. You should not be concerned with cleaning the data. There's a lot of it, so it will be sufficient to drop rows that have bad values. You may want to go back and refine this step at a later point when doing the analysis.\n",
    "\n",
    "You may also want to consider if you can stage your data so that subsequent processing is more efficient (this is not strictly necessary for Spark to run, but you may be able to decrease the time you sit around waiting for Spark to finish things)"
   ]
  },
  {
   "cell_type": "code",
   "execution_count": 4,
   "metadata": {},
   "outputs": [],
   "source": [
    "def extract_price(price):\n",
    "    price = price.lstrip('$').replace(',', '')\n",
    "    return price\n",
    "\n",
    "extract_price_udf = f.udf(extract_price)"
   ]
  },
  {
   "cell_type": "code",
   "execution_count": 5,
   "metadata": {},
   "outputs": [
    {
     "name": "stdout",
     "output_type": "stream",
     "text": [
      "+--------+--------------------+---------+-------+-------------+------+--------------------+-------------------------+\n",
      "|      id|       neighbourhood|     city|country|property_type| price|review_scores_rating|host_total_listings_count|\n",
      "+--------+--------------------+---------+-------+-------------+------+--------------------+-------------------------+\n",
      "| 1389927|HÃ¤gersten-Liljeh...|Stockholm| Sweden|    Apartment| 411.0|                93.0|                      2.0|\n",
      "|17889566|              Bromma|Stockholm| Sweden|        House|8805.0|               100.0|                      2.0|\n",
      "|18495164|HÃ¤gersten-Liljeh...|Stockholm| Sweden|    Apartment| 274.0|                94.0|                      1.0|\n",
      "|18626372|          SÃ¶dermalm|Stockholm| Sweden|    Apartment| 607.0|                92.0|                      1.0|\n",
      "|18789921|            Norrmalm|Stockholm| Sweden|    Apartment|1399.0|                97.0|                      2.0|\n",
      "+--------+--------------------+---------+-------+-------------+------+--------------------+-------------------------+\n",
      "only showing top 5 rows\n",
      "\n"
     ]
    }
   ],
   "source": [
    "dfrc = \\\n",
    "    dfr.select( \\\n",
    "        col(\"listing_id\"), \\\n",
    "        col(\"date\"), \\\n",
    "        col(\"reviewer_id\"), \\\n",
    "        col(\"comments\")) #\\\n",
    "    #.sort(col(\"id\"))\n",
    "\n",
    "dflc = \\\n",
    "    dfl.select( \\\n",
    "        col(\"id\"), \\\n",
    "        col(\"neighbourhood\"), \\\n",
    "        col(\"city\"), \\\n",
    "        col(\"country\"),  \\\n",
    "        col(\"property_type\"), \\\n",
    "        col(\"price\"), \\\n",
    "        col(\"review_scores_rating\"), \\\n",
    "        col(\"host_total_listings_count\")) \\\n",
    "    .filter( \\\n",
    "        f.col('id').isNotNull() & \\\n",
    "        f.col('neighbourhood').isNotNull() & \\\n",
    "        f.col('city').isNotNull() & \\\n",
    "        f.col('country').isNotNull() & \\\n",
    "        f.col('property_type').isNotNull() & \\\n",
    "        f.col('price').isNotNull() & \\\n",
    "        f.col('review_scores_rating').isNotNull() & \\\n",
    "        f.col('host_total_listings_count').isNotNull()) \\\n",
    "    .dropDuplicates() \\\n",
    "    .withColumn('price', extract_price_udf(f.col('price')).cast(\"float\")) \\\n",
    "    .withColumn('review_scores_rating', extract_price_udf(f.col('review_scores_rating')).cast(\"float\")) \\\n",
    "    .withColumn('host_total_listings_count', extract_price_udf(f.col('host_total_listings_count')).cast(\"float\")) #\\\n",
    "    #.sort(col(\"neighbourhood\"))\n",
    "\n",
    "#print(dfrc.count())\n",
    "#print(dflc.count())\n",
    "\n",
    "dflc.show(5)"
   ]
  },
  {
   "cell_type": "code",
   "execution_count": 6,
   "metadata": {},
   "outputs": [
    {
     "name": "stdout",
     "output_type": "stream",
     "text": [
      "root\n",
      " |-- id: string (nullable = true)\n",
      " |-- neighbourhood: string (nullable = true)\n",
      " |-- city: string (nullable = true)\n",
      " |-- country: string (nullable = true)\n",
      " |-- property_type: string (nullable = true)\n",
      " |-- price: float (nullable = true)\n",
      " |-- review_scores_rating: float (nullable = true)\n",
      " |-- host_total_listings_count: float (nullable = true)\n",
      "\n",
      "Review rows: 29400608 Review columns: 4\n",
      "Listing rows: 180625 Listing columns: 8\n"
     ]
    }
   ],
   "source": [
    "dflc.printSchema()\n",
    "\n",
    "print(\"Review rows: \" + str(dfrc.count()) + \" Review columns: \" + str(len(dfrc.columns)))\n",
    "print(\"Listing rows: \" + str(dflc.count()) + \" Listing columns: \" + str(len(dflc.columns)))"
   ]
  },
  {
   "cell_type": "code",
   "execution_count": 7,
   "metadata": {},
   "outputs": [],
   "source": [
    "### COMMENT/UNCOMMENT TO REDUCE/INCREASE NUMBER OF ROWS ###\n",
    "\n",
    "dflc_temp = dflc.sample(False, 0.01)\n",
    "\n",
    "# Convert the Spark DataFrame to a pandas DataFrame using Arrow\n",
    "result_pdf = dflc_temp.select(\"*\").toPandas()\n",
    "\n",
    "# Create a Spark DataFrame from a pandas DataFrame using Arrow\n",
    "dflc = spark.createDataFrame(result_pdf)\n",
    "\n",
    "#dflc.count()"
   ]
  },
  {
   "cell_type": "code",
   "execution_count": 8,
   "metadata": {},
   "outputs": [],
   "source": [
    "### COMMENT/UNCOMMENT TO REDUCE/INCREASE NUMBER OF ROWS ###\n",
    "\n",
    "#dfrc_temp = dfrc.sample(False, 0.01)\n",
    "\n",
    "# Convert the Spark DataFrame to a pandas DataFrame using Arrow\n",
    "#result_pdf = dfrc_temp.select(\"*\").toPandas()\n",
    "\n",
    "# Create a Spark DataFrame from a pandas DataFrame using Arrow\n",
    "#dfrc = spark.createDataFrame(result_pdf)\n",
    "\n",
    "#dfrc.count()"
   ]
  },
  {
   "cell_type": "markdown",
   "metadata": {},
   "source": [
    "# Part 2: Analysis\n",
    "Use Spark and your favorite tool for data visualization to solve the following tasks.\n",
    "\n",
    "## The basics\n",
    "Compute and show a dataframe with the number of listings and neighbourhoods per city."
   ]
  },
  {
   "cell_type": "code",
   "execution_count": 9,
   "metadata": {},
   "outputs": [
    {
     "name": "stdout",
     "output_type": "stream",
     "text": [
      "+----------------+---------------------+---------------+\n",
      "|            city|number_neighbourhoods|number_listings|\n",
      "+----------------+---------------------+---------------+\n",
      "|         Palermo|                    8|           29.0|\n",
      "|         Frogner|                    1|            1.0|\n",
      "|   Itabashi City|                    3|           31.0|\n",
      "|       The Bronx|                    2|            4.0|\n",
      "|          Oatley|                    1|            1.0|\n",
      "|         Firenze|                   20|          163.0|\n",
      "|         Haleiwa|                    2|            9.0|\n",
      "|     Taipei City|                    1|           12.0|\n",
      "|         Ipanema|                    2|            3.0|\n",
      "|South Kingsville|                    1|            2.0|\n",
      "|       TaitÅ�-ku|                    2|           14.0|\n",
      "+----------------+---------------------+---------------+\n",
      "only showing top 11 rows\n",
      "\n"
     ]
    }
   ],
   "source": [
    "dflc_count = dflc.groupBy('city').agg( \\\n",
    "    f.count('neighbourhood').alias('number_neighbourhoods'), \\\n",
    "    f.sum('host_total_listings_count').alias('number_listings'))\n",
    "\n",
    "dflc_count.show(11)"
   ]
  },
  {
   "cell_type": "markdown",
   "metadata": {},
   "source": [
    "Based on the table above, you should choose a city that you want to continue your analysis for. The city should have mulitple neighbourhoods with listings in them.\n",
    "\n",
    "Compute and visualize the number of listings of different property types per neighbourhood in your city."
   ]
  },
  {
   "cell_type": "code",
   "execution_count": 10,
   "metadata": {},
   "outputs": [
    {
     "name": "stdout",
     "output_type": "stream",
     "text": [
      "+---------------+------------------+---------------+\n",
      "|  neighbourhood|     property_type|number_listings|\n",
      "+---------------+------------------+---------------+\n",
      "|         Aluche|         Apartment|            1.0|\n",
      "|     Arganzuela|         Apartment|           28.0|\n",
      "|     ArgÃ¼elles|         Apartment|            1.0|\n",
      "|    Carabanchel|         Apartment|            3.0|\n",
      "|         Centro|         Apartment|           76.0|\n",
      "|         Centro|Serviced apartment|           30.0|\n",
      "|         Centro|    Boutique hotel|            2.0|\n",
      "|     ChamartÃ­n|         Apartment|            2.0|\n",
      "|  Ciudad Jardin|         Apartment|           30.0|\n",
      "|  Ciudad Lineal|         Apartment|            2.0|\n",
      "|         Cortes|         Apartment|           17.0|\n",
      "|    Embajadores|         Apartment|            1.0|\n",
      "|       Justicia|              Loft|           72.0|\n",
      "|       Justicia|         Apartment|           13.0|\n",
      "|      La Latina|         Apartment|            4.0|\n",
      "|      La Latina|             House|            1.0|\n",
      "|        Legazpi|         Apartment|            1.0|\n",
      "|        Moncloa|         Apartment|            3.0|\n",
      "|        Palacio|         Apartment|            3.0|\n",
      "|Palos do Moguer|         Apartment|            2.0|\n",
      "+---------------+------------------+---------------+\n",
      "only showing top 20 rows\n",
      "\n"
     ]
    }
   ],
   "source": [
    "dflc_madrid_prop = dflc.filter(f.col('city') == 'Madrid').groupBy('neighbourhood','property_type') \\\n",
    "    .agg(f.sum('host_total_listings_count').alias('number_listings')) \\\n",
    "    .orderBy('neighbourhood',f.desc('number_listings'))\n",
    "\n",
    "# TODO: Visualize, some panda plots or something\n",
    "\n",
    "dflc_madrid_prop.show()"
   ]
  },
  {
   "cell_type": "markdown",
   "metadata": {},
   "source": [
    "## Prices\n",
    "Compute the minimum, maximum and average listing price in your city. "
   ]
  },
  {
   "cell_type": "code",
   "execution_count": 11,
   "metadata": {},
   "outputs": [
    {
     "name": "stdout",
     "output_type": "stream",
     "text": [
      "+------+---------+---------+---------+\n",
      "|  city|max_price|min_price|avg_price|\n",
      "+------+---------+---------+---------+\n",
      "|Madrid|   5000.0|     22.0|   202.76|\n",
      "+------+---------+---------+---------+\n",
      "\n"
     ]
    }
   ],
   "source": [
    "dflc_madrid_maxminavg = dflc.filter(f.col('city') == 'Madrid') \\\n",
    "    .groupBy('city').agg( \\\n",
    "        f.max('price').alias('max_price'), \\\n",
    "        f.min('price').alias('min_price'), \\\n",
    "        f.round(f.mean('price'),2).alias('avg_price'))\n",
    "\n",
    "dflc_madrid_maxminavg.show()"
   ]
  },
  {
   "cell_type": "markdown",
   "metadata": {},
   "source": [
    "Compute and visualize the distribution of listing prices in your city."
   ]
  },
  {
   "cell_type": "code",
   "execution_count": 12,
   "metadata": {},
   "outputs": [],
   "source": [
    "dflc_madrid_neigh = dflc.filter(f.col('city') == 'Madrid') \\\n",
    "    .groupBy('city','neighbourhood').agg( \\\n",
    "        f.count('price').alias('number_price'), \\\n",
    "        f.max('price').alias('max_price'), \\\n",
    "        f.min('price').alias('min_price'), \\\n",
    "        f.mean('price').alias('avg_price')) \\\n",
    "    .orderBy(f.desc('avg_price'))\n",
    "\n",
    "#dflc_madrid_neigh.show(5)"
   ]
  },
  {
   "cell_type": "code",
   "execution_count": 13,
   "metadata": {},
   "outputs": [
    {
     "data": {
      "text/plain": [
       "<matplotlib.axes._subplots.AxesSubplot at 0x13add4d16c8>"
      ]
     },
     "execution_count": 13,
     "metadata": {},
     "output_type": "execute_result"
    }
   ],
   "source": [
    "pdf = dflc_madrid_neigh.select(\"*\").toPandas()\n",
    "\n",
    "p_max = pdf['max_price'].values\n",
    "p_min = pdf['min_price'].values\n",
    "p_avg = pdf['avg_price'].values\n",
    "df = pd.DataFrame({'Max price': p_max, 'Min price': p_min, 'Avg price': p_avg}, index=pdf['neighbourhood'].values)\n",
    "df.plot.bar(rot=90,figsize=(16, 4))"
   ]
  },
  {
   "cell_type": "markdown",
   "metadata": {},
   "source": [
    "The value of a listing is its rating divided by its price.\n",
    "\n",
    "Compute and show a dataframe with the 3 highest valued listings in each neighbourhood."
   ]
  },
  {
   "cell_type": "code",
   "execution_count": 14,
   "metadata": {},
   "outputs": [
    {
     "name": "stdout",
     "output_type": "stream",
     "text": [
      "+-------------+-----+--------------------+-----+\n",
      "|neighbourhood|price|review_scores_rating|value|\n",
      "+-------------+-----+--------------------+-----+\n",
      "|       Aluche| 30.0|                90.0|  3.0|\n",
      "|   Arganzuela| 22.0|               100.0| 4.55|\n",
      "|   Arganzuela| 32.0|                89.0| 2.78|\n",
      "|   Arganzuela| 45.0|                95.0| 2.11|\n",
      "|   ArgÃ¼elles| 40.0|                98.0| 2.45|\n",
      "|  Carabanchel| 65.0|                92.0| 1.42|\n",
      "|       Centro| 60.0|               100.0| 1.67|\n",
      "|       Centro| 55.0|                91.0| 1.65|\n",
      "|       Centro| 65.0|                93.0| 1.43|\n",
      "|   ChamartÃ­n| 23.0|                95.0| 4.13|\n",
      "+-------------+-----+--------------------+-----+\n",
      "only showing top 10 rows\n",
      "\n"
     ]
    }
   ],
   "source": [
    "dflc_madrid_value = dflc.filter(f.col('city') == 'Madrid') \\\n",
    "    .select( \\\n",
    "            col(\"neighbourhood\"), \\\n",
    "            col(\"price\"), \\\n",
    "            col(\"review_scores_rating\")) \\\n",
    "    .withColumn('value', f.round(f.col('review_scores_rating') / f.col('price'),2))\n",
    "\n",
    "#dflc_madrid_value.show(5)\n",
    "\n",
    "sorted_by_value_window = Window.partitionBy('neighbourhood').orderBy(f.desc('value'))\n",
    "\n",
    "ranked_dflc_madrid_value = dflc_madrid_value.withColumn('ValueRank', f.rank().over(sorted_by_value_window))\n",
    "\n",
    "ranked_dflc_madrid_value.filter(f.col('ValueRank') <= 3).drop('ValueRank').orderBy('neighbourhood', f.desc('value')).show(10)"
   ]
  },
  {
   "cell_type": "markdown",
   "metadata": {},
   "source": [
    "## Trends\n",
    "Now we want to analyze the \"popularity\" of your city. The data does not contain the number of bookings per listing, but we have a large number of reviews, and we will assume that this is a good indicator of activity on listings."
   ]
  },
  {
   "cell_type": "markdown",
   "metadata": {},
   "source": [
    "Compute and visualize the popularity (i.e., number of reviews) of your city over time."
   ]
  },
  {
   "cell_type": "code",
   "execution_count": 15,
   "metadata": {},
   "outputs": [],
   "source": [
    "dfc_madrid = dfrc.join(f.broadcast(dflc), (f.col('id') == f.col('listing_id')), 'inner') \\\n",
    "    .filter(f.col('city') == 'Madrid') \\\n",
    "    .drop( \\\n",
    "        'id', \\\n",
    "        'listing_id', \\\n",
    "        'reviewer_id', \\\n",
    "        'host_total_listings_count', \\\n",
    "        'property_type', \\\n",
    "        'price', \\\n",
    "        'country', \\\n",
    "        'reviewer_id')"
   ]
  },
  {
   "cell_type": "code",
   "execution_count": 16,
   "metadata": {},
   "outputs": [
    {
     "data": {
      "text/plain": [
       "<matplotlib.axes._subplots.AxesSubplot at 0x13addfbccc8>"
      ]
     },
     "execution_count": 16,
     "metadata": {},
     "output_type": "execute_result"
    },
    {
     "data": {
      "image/png": "[encoded data removed]",
      "text/plain": [
       "<Figure size 1152x288 with 1 Axes>"
      ]
     },
     "metadata": {
      "needs_background": "light"
     },
     "output_type": "display_data"
    }
   ],
   "source": [
    "dfc_madrid_pop = dfc_madrid.groupBy('city','date').agg(f.count('date').alias('number_reviews')).orderBy('date')\n",
    "\n",
    "pdf = dfc_madrid_pop.select(\"*\").toPandas()\n",
    "\n",
    "number_reviews = pdf['number_reviews'].values\n",
    "df = pd.DataFrame({'Number of reviews': number_reviews}, index=pdf['date'].values)\n",
    "df.plot.line(rot=90,figsize=(16, 4))"
   ]
  },
  {
   "cell_type": "markdown",
   "metadata": {},
   "source": [
    "Compute and visualize the popularity of neighbourhoods over time. If there are many neighbourhoods in your city, you should select a few interesting ones for comparison."
   ]
  },
  {
   "cell_type": "code",
   "execution_count": 17,
   "metadata": {},
   "outputs": [
    {
     "data": {
      "text/plain": [
       "<matplotlib.axes._subplots.AxesSubplot at 0x13add491a08>"
      ]
     },
     "execution_count": 17,
     "metadata": {},
     "output_type": "execute_result"
    },
    {
     "data": {
      "image/png": "[encoded data removed]",
      "text/plain": [
       "<Figure size 1152x288 with 1 Axes>"
      ]
     },
     "metadata": {
      "needs_background": "light"
     },
     "output_type": "display_data"
    }
   ],
   "source": [
    "dfc_madrid_neigh_pop = dfc_madrid.filter( \\\n",
    "        (f.col('neighbourhood') == 'Centro') | \\\n",
    "        (f.col('neighbourhood') == 'San Blas') | \\\n",
    "        (f.col('neighbourhood') == 'Aluche') | \\\n",
    "        (f.col('neighbourhood') == 'MalasaÃ±a')) \\\n",
    "    .groupBy('city','neighbourhood','date') \\\n",
    "    .agg(f.count('date').alias('number_reviews'))\n",
    "\n",
    "pdf = dfc_madrid_neigh_pop.select(\"*\").toPandas()\n",
    "\n",
    "pdf = pdf.pivot(index='date', columns='neighbourhood', values='number_reviews')\n",
    "\n",
    "pdf.plot.line(rot=90,figsize=(16, 4))"
   ]
  },
  {
   "cell_type": "markdown",
   "metadata": {},
   "source": [
    "Compute and visualize the popularity of your city by season. For example, visualize the popularity of your city per month."
   ]
  },
  {
   "cell_type": "code",
   "execution_count": 18,
   "metadata": {},
   "outputs": [
    {
     "data": {
      "text/plain": [
       "<matplotlib.axes._subplots.AxesSubplot at 0x13ade062288>"
      ]
     },
     "execution_count": 18,
     "metadata": {},
     "output_type": "execute_result"
    },
    {
     "data": {
      "image/png": "[encoded data removed]",
      "text/plain": [
       "<Figure size 1152x288 with 1 Axes>"
      ]
     },
     "metadata": {
      "needs_background": "light"
     },
     "output_type": "display_data"
    }
   ],
   "source": [
    "dfc_madrid_pop_season = dfc_madrid.withColumn('yr_mth', f.col('date').substr(1, 7)) \\\n",
    "    .groupBy('city','yr_mth') \\\n",
    "    .agg(f.count('yr_mth').alias('number_reviews')) \\\n",
    "    .orderBy('yr_mth')\n",
    "\n",
    "pdf = dfc_madrid_pop_season.select(\"*\").toPandas()\n",
    "\n",
    "number_reviews = pdf['number_reviews'].values\n",
    "df = pd.DataFrame({'Number of reviews': number_reviews}, index=pdf['yr_mth'].values)\n",
    "df.plot.line(rot=90,figsize=(16, 4))"
   ]
  },
  {
   "cell_type": "markdown",
   "metadata": {},
   "source": [
    "## Reviews\n",
    "In this part you should determine which words used in reviews that are the most positive. \n",
    "\n",
    "The individual reviews do not have a rating of the listing, so we will assume that each review gave the average rating to the listing, i.e., the one on the listing.\n",
    "\n",
    "You should assign a positivity weight to each word seen in reviews and list the words with the highest weight. It is up to you to decide what the weight should be. For example, it can be a function of the rating on the listing on which it occurs, the number of reviews it occurs in, and the number of unique listings for which it was used to review.\n",
    "\n",
    "Depending on your choice of weight function, you may also want to do some filtering of words. For example, remove words that only occur in a few reviews."
   ]
  },
  {
   "cell_type": "code",
   "execution_count": 19,
   "metadata": {},
   "outputs": [],
   "source": [
    "link = \"http://ir.dcs.gla.ac.uk/resources/linguistic_utils/stop_words\"\n",
    "\n",
    "urlcont = urlopen(link)\n",
    "myfile = urlcont.read()\n",
    "sw_dc = myfile.decode(\"utf-8\")\n",
    "stop_words = sw_dc.split(\"\\r\\n\")\n",
    "#print(stop_words)"
   ]
  },
  {
   "cell_type": "code",
   "execution_count": 20,
   "metadata": {},
   "outputs": [],
   "source": [
    "dfc_all = dfrc.join(f.broadcast(dflc), (f.col('id') == f.col('listing_id')), 'inner') \\\n",
    "    .drop( \\\n",
    "        'id', \\\n",
    "        'listing_id', \\\n",
    "        'date', \\\n",
    "        'neighbourhood', \\\n",
    "        'city', \\\n",
    "        'reviewer_id', \\\n",
    "        'host_total_listings_count', \\\n",
    "        'property_type', \\\n",
    "        'price', \\\n",
    "        'country', \\\n",
    "        'reviewer_id')\n",
    "\n",
    "#dfc_all.show(5)"
   ]
  },
  {
   "cell_type": "code",
   "execution_count": 23,
   "metadata": {},
   "outputs": [
    {
     "name": "stdout",
     "output_type": "stream",
     "text": [
      "+-------------+----------+---------+----------+\n",
      "|         word|rating_tot|word_freq|avg_rating|\n",
      "+-------------+----------+---------+----------+\n",
      "|         home|  412531.0|     4280|     96.39|\n",
      "|        hosts|  212306.0|     2205|     96.28|\n",
      "|    beautiful|  333771.0|     3467|     96.27|\n",
      "|       family|  153998.0|     1602|     96.13|\n",
      "|    wonderful|  303622.0|     3159|     96.11|\n",
      "|        loved|  235404.0|     2451|     96.04|\n",
      "|   absolutely|  112249.0|     1169|     96.02|\n",
      "|         best|  197534.0|     2058|     95.98|\n",
      "|    fantastic|  182316.0|     1901|     95.91|\n",
      "|       highly|  317463.0|     3310|     95.91|\n",
      "|         feel|  172162.0|     1796|     95.86|\n",
      "|      amazing|  353699.0|     3693|     95.78|\n",
      "|    welcoming|  143070.0|     1494|     95.76|\n",
      "|        house|  424375.0|     4432|     95.75|\n",
      "|         gave|  143121.0|     1495|     95.73|\n",
      "|       coffee|  126733.0|     1324|     95.72|\n",
      "|     downtown|  103949.0|     1086|     95.72|\n",
      "|       lovely|  352257.0|     3680|     95.72|\n",
      "| neighborhood|  247846.0|     2590|     95.69|\n",
      "|        local|  127527.0|     1333|     95.67|\n",
      "|        visit|  155698.0|     1628|     95.64|\n",
      "|         felt|  154246.0|     1613|     95.63|\n",
      "|      awesome|  122696.0|     1283|     95.63|\n",
      "|  comfortable|  593863.0|     6211|     95.61|\n",
      "|        quiet|  322123.0|     3369|     95.61|\n",
      "|     spacious|  220157.0|     2303|      95.6|\n",
      "|   definitely|  456222.0|     4774|     95.56|\n",
      "|  recommended|  129715.0|     1358|     95.52|\n",
      "|    amenities|  133029.0|     1393|      95.5|\n",
      "|        thank|  176648.0|     1850|     95.49|\n",
      "|accommodating|  122131.0|     1279|     95.49|\n",
      "|        space|  328963.0|     3445|     95.49|\n",
      "|      staying|  259367.0|     2717|     95.46|\n",
      "|         trip|  142526.0|     1493|     95.46|\n",
      "|         lots|  140870.0|     1476|     95.44|\n",
      "|         warm|  102686.0|     1076|     95.43|\n",
      "|         make|  139712.0|     1464|     95.43|\n",
      "|      perfect|  570938.0|     5983|     95.43|\n",
      "|        super|  447730.0|     4692|     95.42|\n",
      "|       places|  151133.0|     1584|     95.41|\n",
      "|         away|  226854.0|     2378|      95.4|\n",
      "|         come|  165230.0|     1732|      95.4|\n",
      "|    excellent|  228306.0|     2394|     95.37|\n",
      "|    extremely|  121853.0|     1278|     95.35|\n",
      "|    recommend|  679568.0|     7128|     95.34|\n",
      "|      enjoyed|  226887.0|     2380|     95.33|\n",
      "|       plenty|   98856.0|     1037|     95.33|\n",
      "|         spot|  104372.0|     1095|     95.32|\n",
      "|         food|  104339.0|     1095|     95.29|\n",
      "|   responsive|  137109.0|     1439|     95.28|\n",
      "|       needed|  249730.0|     2621|     95.28|\n",
      "|        quick|  160795.0|     1688|     95.26|\n",
      "|       nearby|  115740.0|     1215|     95.26|\n",
      "|         stay| 1612376.0|    16928|     95.25|\n",
      "|         sure|  132782.0|     1394|     95.25|\n",
      "|     provided|  139336.0|     1463|     95.24|\n",
      "|  restaurants|  372834.0|     3915|     95.23|\n",
      "|        clean| 1050262.0|    11029|     95.23|\n",
      "|       thanks|  186924.0|     1963|     95.22|\n",
      "|         cozy|  162164.0|     1703|     95.22|\n",
      "|       better|  121781.0|     1279|     95.22|\n",
      "|     distance|  204386.0|     2147|      95.2|\n",
      "|   experience|  237342.0|     2493|      95.2|\n",
      "|        beach|  108149.0|     1136|      95.2|\n",
      "|         view|  153256.0|     1610|     95.19|\n",
      "|    questions|  127460.0|     1339|     95.19|\n",
      "|       stayed|  191113.0|     2008|     95.18|\n",
      "|      helpful|  387069.0|     4067|     95.17|\n",
      "|     friendly|  283388.0|     2978|     95.16|\n",
      "|        great| 2092035.0|    21991|     95.13|\n",
      "|         safe|  124856.0|     1313|     95.09|\n",
      "|        shops|  139693.0|     1469|     95.09|\n",
      "|         easy|  512172.0|     5387|     95.08|\n",
      "|         need|  274550.0|     2888|     95.07|\n",
      "|      exactly|  113692.0|     1196|     95.06|\n",
      "|       itâ€™s|  102476.0|     1078|     95.06|\n",
      "|      looking|  102855.0|     1082|     95.06|\n",
      "|         kind|  172419.0|     1814|     95.05|\n",
      "|        muito|  114696.0|     1207|     95.03|\n",
      "|         time|  458331.0|     4823|     95.03|\n",
      "|         area|  334700.0|     3522|     95.03|\n",
      "|      walking|  259810.0|     2734|     95.03|\n",
      "|        place| 1785723.0|    18793|     95.02|\n",
      "|       street|  213843.0|     2251|      95.0|\n",
      "|         host|  911191.0|     9594|     94.98|\n",
      "|        short|  150265.0|     1582|     94.98|\n",
      "|      located|  298305.0|     3141|     94.97|\n",
      "|       really|  608159.0|     6404|     94.97|\n",
      "|         bars|  119281.0|     1256|     94.97|\n",
      "|          new|  101694.0|     1071|     94.95|\n",
      "|communication|  203362.0|     2142|     94.94|\n",
      "|         walk|  404166.0|     4257|     94.94|\n",
      "|    available|  100351.0|     1057|     94.94|\n",
      "|         city|  372967.0|     3929|     94.93|\n",
      "|         like|  291256.0|     3068|     94.93|\n",
      "|         sehr|  125276.0|     1320|     94.91|\n",
      "|       minute|  113494.0|     1196|     94.89|\n",
      "|         just|  409308.0|     4314|     94.88|\n",
      "|      arrived|  101384.0|     1069|     94.84|\n",
      "|      central|  152309.0|     1606|     94.84|\n",
      "+-------------+----------+---------+----------+\n",
      "only showing top 100 rows\n",
      "\n"
     ]
    }
   ],
   "source": [
    "dfc_top_words = dfc_all.withColumn('word', f.explode(f.split(lower(f.regexp_replace(f.col('comments'), \\\n",
    "        \"[!\\\"#$%&\\'()*+,-./:;<=>?@^_`{|}~]\", \"\")), ' '))) \\\n",
    "    .where(f.col('word').isin(*stop_words) == False) \\\n",
    "    .groupBy('word') \\\n",
    "    .agg(f.sum('review_scores_rating').alias('rating_tot'), f.count('word').alias('word_freq')) \\\n",
    "    .withColumn('avg_rating', f.round(f.col('rating_tot') / f.col('word_freq'),2)) \\\n",
    "    .filter(f.col('word_freq') > 1000) \\\n",
    "    .sort('avg_rating', ascending=False)\n",
    "\n",
    "dfc_top_words.show(100)"
   ]
  }
 ],
 "metadata": {
  "kernelspec": {
   "display_name": "Python 3",
   "language": "python",
   "name": "python3"
  },
  "language_info": {
   "codemirror_mode": {
    "name": "ipython",
    "version": 3
   },
   "file_extension": ".py",
   "mimetype": "text/x-python",
   "name": "python",
   "nbconvert_exporter": "python",
   "pygments_lexer": "ipython3",
   "version": "3.7.4"
  }
 },
 "nbformat": 4,
 "nbformat_minor": 2
}
