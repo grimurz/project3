{
 "cells": [
  {
   "cell_type": "markdown",
   "metadata": {},
   "source": [
    "# Project 3: Airbnb\n",
    "**This is the third of three mandatory projects to be handed in as part of the assessment for the course 02807 Computational Tools for Data Science at Technical University of Denmark, autumn 2019.**\n",
    "\n",
    "#### Practical info\n",
    "- **The project is to be done in groups of at most 3 students**\n",
    "- **Each group has to hand in _one_ Jupyter notebook (this notebook) with their solution**\n",
    "- **The hand-in of the notebook is due 2019-12-05, 23:59 on DTU Inside**\n",
    "\n",
    "#### Your solution\n",
    "- **Your solution should be in Python/PySpark**\n",
    "- **For each question you may use as many cells for your solution as you like**\n",
    "- **You should not remove the problem statements**\n",
    "- **Your notebook should be runnable, i.e., clicking [>>] in Jupyter should generate the result that you want to be assessed**\n",
    "- **You are not expected to use machine learning to solve any of the exercises**"
   ]
  },
  {
   "cell_type": "markdown",
   "metadata": {},
   "source": [
    "# Introduction\n",
    "[Airbnb](http://airbnb.com) is an online marketplace for arranging or offering lodgings. In this project you will use Spark to analyze data obtained from the Airbnb website. The purpose of the analysis is to extract information about trends and patterns from the data.\n",
    "\n",
    "The project has two parts.\n",
    "\n",
    "### Part 1: Loading, describing and preparing the data\n",
    "There's quite a lot of data. Make sure that you can load and correctly parse the data, and that you understand what the dataset contains. You should also prepare the data for the analysis in part two. This means cleaning it and staging it so that subsequent queries are fast.\n",
    "\n",
    "### Par 2: Analysis\n",
    "In this part your goal is to learn about trends and usage patterns from the data. You should give solutions to the tasks defined in this notebook, and you should use Spark to do the data processing. You may use other libraries like for instance Pandas and matplotlib for visualisation.\n",
    "\n",
    "## Guidelines\n",
    "- Processing data should be done using Spark. Once data has been reduced to aggregate form, you may use collect to extract it into Python for visualisation.\n",
    "- Your solutions will be evaluated by correctness, code quality and interpretability of the output. This means that you have to write clean and efficient Spark code that will generate sensible execution plans, and that the tables and visualisations that you produce are meaningful and easy to read.\n",
    "- You may add more cells for your solutions, but you should not modify the notebook otherwise."
   ]
  },
  {
   "cell_type": "markdown",
   "metadata": {},
   "source": [
    "### Create Spark session and define imports"
   ]
  },
  {
   "cell_type": "code",
   "execution_count": 51,
   "metadata": {},
   "outputs": [],
   "source": [
    "from pyspark.sql import *\n",
    "from pyspark.sql import functions as f\n",
    "from pyspark.sql.types import *\n",
    "from pyspark.sql.functions import col\n",
    "from pyspark.sql.functions import isnan\n",
    "import pandas as pd\n",
    "from pyspark.sql.functions import lower, col\n",
    "from urllib.request import urlopen\n",
    "import json\n",
    "\n",
    "spark = SparkSession.builder.appName(\"Project3\").getOrCreate()"
   ]
  },
  {
   "cell_type": "markdown",
   "metadata": {},
   "source": [
    "# Part 1: Loading, describing and preparing the data\n",
    "The data comes in two files. Start by downloading the files and putting them in your `data/` folder.\n",
    "\n",
    "- [Listings](https://files.dtu.dk/u/siPzAasj8w2gI_ME/listings.csv?l) (5 GB)\n",
    "- [Reviews](https://files.dtu.dk/u/k3oaPYp6GjKBeho4/reviews.csv?l) (9.5 GB)"
   ]
  },
  {
   "cell_type": "markdown",
   "metadata": {},
   "source": [
    "### Load the data\n",
    "The data has multiline rows (rows that span multiple lines in the file). To correctly parse these you should use the `multiline` option and set the `escape` character to be `\"`."
   ]
  },
  {
   "cell_type": "code",
   "execution_count": 2,
   "metadata": {},
   "outputs": [],
   "source": [
    "dfl = spark.read.option(\"multiLine\", True).option('header', True).option(\"escape\", \"\\\"\").csv('data/listings.csv')\n",
    "dfr = spark.read.option(\"multiLine\", True).option('header', True).option(\"escape\", \"\\\"\").csv('data/reviews.csv')   "
   ]
  },
  {
   "cell_type": "markdown",
   "metadata": {},
   "source": [
    "### Describe the data\n",
    "List the features (schema) and sizes of the datasets."
   ]
  },
  {
   "cell_type": "code",
   "execution_count": 3,
   "metadata": {},
   "outputs": [
    {
     "name": "stdout",
     "output_type": "stream",
     "text": [
      "Review rows: 29400608 Review columns: 6\n",
      "Listing rows: 408202 Listing columns: 106\n",
      "+----------+---------+----------+-----------+-------------+--------------------+\n",
      "|listing_id|       id|      date|reviewer_id|reviewer_name|            comments|\n",
      "+----------+---------+----------+-----------+-------------+--------------------+\n",
      "|    145320|156423122|2017-05-30|  123386382|        Erwin|Prima plek om Sto...|\n",
      "|    145320|170211906|2017-07-15|  123091743|         Anne|Cosy and clean fl...|\n",
      "|    145320|172169175|2017-07-20|      78004|     Patricia|The host canceled...|\n",
      "|    145320|176647581|2017-07-31|  103178743|    Charlotte|Kim's place was o...|\n",
      "|    145320|185676021|2017-08-22|    4023961|    Alexander|great spacious ap...|\n",
      "+----------+---------+----------+-----------+-------------+--------------------+\n",
      "only showing top 5 rows\n",
      "\n",
      "root\n",
      " |-- id: string (nullable = true)\n",
      " |-- listing_url: string (nullable = true)\n",
      " |-- scrape_id: string (nullable = true)\n",
      " |-- last_scraped: string (nullable = true)\n",
      " |-- name: string (nullable = true)\n",
      " |-- summary: string (nullable = true)\n",
      " |-- space: string (nullable = true)\n",
      " |-- description: string (nullable = true)\n",
      " |-- experiences_offered: string (nullable = true)\n",
      " |-- neighborhood_overview: string (nullable = true)\n",
      " |-- notes: string (nullable = true)\n",
      " |-- transit: string (nullable = true)\n",
      " |-- access: string (nullable = true)\n",
      " |-- interaction: string (nullable = true)\n",
      " |-- house_rules: string (nullable = true)\n",
      " |-- thumbnail_url: string (nullable = true)\n",
      " |-- medium_url: string (nullable = true)\n",
      " |-- picture_url: string (nullable = true)\n",
      " |-- xl_picture_url: string (nullable = true)\n",
      " |-- host_id: string (nullable = true)\n",
      " |-- host_url: string (nullable = true)\n",
      " |-- host_name: string (nullable = true)\n",
      " |-- host_since: string (nullable = true)\n",
      " |-- host_location: string (nullable = true)\n",
      " |-- host_about: string (nullable = true)\n",
      " |-- host_response_time: string (nullable = true)\n",
      " |-- host_response_rate: string (nullable = true)\n",
      " |-- host_acceptance_rate: string (nullable = true)\n",
      " |-- host_is_superhost: string (nullable = true)\n",
      " |-- host_thumbnail_url: string (nullable = true)\n",
      " |-- host_picture_url: string (nullable = true)\n",
      " |-- host_neighbourhood: string (nullable = true)\n",
      " |-- host_listings_count: string (nullable = true)\n",
      " |-- host_total_listings_count: string (nullable = true)\n",
      " |-- host_verifications: string (nullable = true)\n",
      " |-- host_has_profile_pic: string (nullable = true)\n",
      " |-- host_identity_verified: string (nullable = true)\n",
      " |-- street: string (nullable = true)\n",
      " |-- neighbourhood: string (nullable = true)\n",
      " |-- neighbourhood_cleansed: string (nullable = true)\n",
      " |-- neighbourhood_group_cleansed: string (nullable = true)\n",
      " |-- city: string (nullable = true)\n",
      " |-- state: string (nullable = true)\n",
      " |-- zipcode: string (nullable = true)\n",
      " |-- market: string (nullable = true)\n",
      " |-- smart_location: string (nullable = true)\n",
      " |-- country_code: string (nullable = true)\n",
      " |-- country: string (nullable = true)\n",
      " |-- latitude: string (nullable = true)\n",
      " |-- longitude: string (nullable = true)\n",
      " |-- is_location_exact: string (nullable = true)\n",
      " |-- property_type: string (nullable = true)\n",
      " |-- room_type: string (nullable = true)\n",
      " |-- accommodates: string (nullable = true)\n",
      " |-- bathrooms: string (nullable = true)\n",
      " |-- bedrooms: string (nullable = true)\n",
      " |-- beds: string (nullable = true)\n",
      " |-- bed_type: string (nullable = true)\n",
      " |-- amenities: string (nullable = true)\n",
      " |-- square_feet: string (nullable = true)\n",
      " |-- price: string (nullable = true)\n",
      " |-- weekly_price: string (nullable = true)\n",
      " |-- monthly_price: string (nullable = true)\n",
      " |-- security_deposit: string (nullable = true)\n",
      " |-- cleaning_fee: string (nullable = true)\n",
      " |-- guests_included: string (nullable = true)\n",
      " |-- extra_people: string (nullable = true)\n",
      " |-- minimum_nights: string (nullable = true)\n",
      " |-- maximum_nights: string (nullable = true)\n",
      " |-- minimum_minimum_nights: string (nullable = true)\n",
      " |-- maximum_minimum_nights: string (nullable = true)\n",
      " |-- minimum_maximum_nights: string (nullable = true)\n",
      " |-- maximum_maximum_nights: string (nullable = true)\n",
      " |-- minimum_nights_avg_ntm: string (nullable = true)\n",
      " |-- maximum_nights_avg_ntm: string (nullable = true)\n",
      " |-- calendar_updated: string (nullable = true)\n",
      " |-- has_availability: string (nullable = true)\n",
      " |-- availability_30: string (nullable = true)\n",
      " |-- availability_60: string (nullable = true)\n",
      " |-- availability_90: string (nullable = true)\n",
      " |-- availability_365: string (nullable = true)\n",
      " |-- calendar_last_scraped: string (nullable = true)\n",
      " |-- number_of_reviews: string (nullable = true)\n",
      " |-- number_of_reviews_ltm: string (nullable = true)\n",
      " |-- first_review: string (nullable = true)\n",
      " |-- last_review: string (nullable = true)\n",
      " |-- review_scores_rating: string (nullable = true)\n",
      " |-- review_scores_accuracy: string (nullable = true)\n",
      " |-- review_scores_cleanliness: string (nullable = true)\n",
      " |-- review_scores_checkin: string (nullable = true)\n",
      " |-- review_scores_communication: string (nullable = true)\n",
      " |-- review_scores_location: string (nullable = true)\n",
      " |-- review_scores_value: string (nullable = true)\n",
      " |-- requires_license: string (nullable = true)\n",
      " |-- license: string (nullable = true)\n",
      " |-- jurisdiction_names: string (nullable = true)\n",
      " |-- instant_bookable: string (nullable = true)\n",
      " |-- is_business_travel_ready: string (nullable = true)\n",
      " |-- cancellation_policy: string (nullable = true)\n",
      " |-- require_guest_profile_picture: string (nullable = true)\n",
      " |-- require_guest_phone_verification: string (nullable = true)\n",
      " |-- calculated_host_listings_count: string (nullable = true)\n",
      " |-- calculated_host_listings_count_entire_homes: string (nullable = true)\n",
      " |-- calculated_host_listings_count_private_rooms: string (nullable = true)\n",
      " |-- calculated_host_listings_count_shared_rooms: string (nullable = true)\n",
      " |-- reviews_per_month: string (nullable = true)\n",
      "\n"
     ]
    }
   ],
   "source": [
    "print(\"Review rows: \" + str(dfr.count()) + \" Review columns: \" + str(len(dfr.columns)))\n",
    "print(\"Listing rows: \" + str(dfl.count()) + \" Listing columns: \" + str(len(dfl.columns)))\n",
    "\n",
    "dfr.show(5)\n",
    "dfl.printSchema()"
   ]
  },
  {
   "cell_type": "markdown",
   "metadata": {},
   "source": [
    "### Prepare the data for analysis\n",
    "You should prepare two dataframes to be used in the analysis part of the project. You should not be concerned with cleaning the data. There's a lot of it, so it will be sufficient to drop rows that have bad values. You may want to go back and refine this step at a later point when doing the analysis.\n",
    "\n",
    "You may also want to consider if you can stage your data so that subsequent processing is more efficient (this is not strictly necessary for Spark to run, but you may be able to decrease the time you sit around waiting for Spark to finish things)"
   ]
  },
  {
   "cell_type": "code",
   "execution_count": 4,
   "metadata": {},
   "outputs": [],
   "source": [
    "def extract_price(price):\n",
    "    price = price.lstrip('$').replace(',', '')\n",
    "    return price\n",
    "\n",
    "extract_price_udf = f.udf(extract_price)"
   ]
  },
  {
   "cell_type": "code",
   "execution_count": 5,
   "metadata": {},
   "outputs": [
    {
     "name": "stdout",
     "output_type": "stream",
     "text": [
      "+--------+--------------------+---------+-------+-------------+------+--------------------+-------------------------+\n",
      "|      id|       neighbourhood|     city|country|property_type| price|review_scores_rating|host_total_listings_count|\n",
      "+--------+--------------------+---------+-------+-------------+------+--------------------+-------------------------+\n",
      "| 1389927|HÃ¤gersten-Liljeh...|Stockholm| Sweden|    Apartment| 411.0|                93.0|                      2.0|\n",
      "|17889566|              Bromma|Stockholm| Sweden|        House|8805.0|               100.0|                      2.0|\n",
      "|18495164|HÃ¤gersten-Liljeh...|Stockholm| Sweden|    Apartment| 274.0|                94.0|                      1.0|\n",
      "|18626372|          SÃ¶dermalm|Stockholm| Sweden|    Apartment| 607.0|                92.0|                      1.0|\n",
      "|18789921|            Norrmalm|Stockholm| Sweden|    Apartment|1399.0|                97.0|                      2.0|\n",
      "+--------+--------------------+---------+-------+-------------+------+--------------------+-------------------------+\n",
      "only showing top 5 rows\n",
      "\n"
     ]
    }
   ],
   "source": [
    "dfrc = \\\n",
    "    dfr.select( \\\n",
    "        col(\"listing_id\"), \\\n",
    "        col(\"date\"), \\\n",
    "        col(\"reviewer_id\"), \\\n",
    "        col(\"comments\")) #\\\n",
    "    #.sort(col(\"id\"))\n",
    "\n",
    "dflc = \\\n",
    "    dfl.select( \\\n",
    "        col(\"id\"), \\\n",
    "        col(\"neighbourhood\"), \\\n",
    "        col(\"city\"), \\\n",
    "        col(\"country\"),  \\\n",
    "        col(\"property_type\"), \\\n",
    "        col(\"price\"), \\\n",
    "        col(\"review_scores_rating\"), \\\n",
    "        col(\"host_total_listings_count\")) \\\n",
    "    .filter( \\\n",
    "        f.col('id').isNotNull() & \\\n",
    "        f.col('neighbourhood').isNotNull() & \\\n",
    "        f.col('city').isNotNull() & \\\n",
    "        f.col('country').isNotNull() & \\\n",
    "        f.col('property_type').isNotNull() & \\\n",
    "        f.col('price').isNotNull() & \\\n",
    "        f.col('review_scores_rating').isNotNull() & \\\n",
    "        f.col('host_total_listings_count').isNotNull()) \\\n",
    "    .dropDuplicates() \\\n",
    "    .withColumn('price', extract_price_udf(f.col('price')).cast(\"float\")) \\\n",
    "    .withColumn('review_scores_rating', extract_price_udf(f.col('review_scores_rating')).cast(\"float\")) \\\n",
    "    .withColumn('host_total_listings_count', extract_price_udf(f.col('host_total_listings_count')).cast(\"float\")) #\\\n",
    "    #.sort(col(\"neighbourhood\"))\n",
    "\n",
    "#print(dfrc.count())\n",
    "#print(dflc.count())\n",
    "\n",
    "dflc.show(5)"
   ]
  },
  {
   "cell_type": "code",
   "execution_count": 6,
   "metadata": {},
   "outputs": [
    {
     "name": "stdout",
     "output_type": "stream",
     "text": [
      "root\n",
      " |-- id: string (nullable = true)\n",
      " |-- neighbourhood: string (nullable = true)\n",
      " |-- city: string (nullable = true)\n",
      " |-- country: string (nullable = true)\n",
      " |-- property_type: string (nullable = true)\n",
      " |-- price: float (nullable = true)\n",
      " |-- review_scores_rating: float (nullable = true)\n",
      " |-- host_total_listings_count: float (nullable = true)\n",
      "\n",
      "Review rows: 29400608 Review columns: 4\n",
      "Listing rows: 180625 Listing columns: 8\n"
     ]
    }
   ],
   "source": [
    "dflc.printSchema()\n",
    "\n",
    "print(\"Review rows: \" + str(dfrc.count()) + \" Review columns: \" + str(len(dfrc.columns)))\n",
    "print(\"Listing rows: \" + str(dflc.count()) + \" Listing columns: \" + str(len(dflc.columns)))"
   ]
  },
  {
   "cell_type": "code",
   "execution_count": 7,
   "metadata": {},
   "outputs": [],
   "source": [
    "### COMMENT/UNCOMMENT TO REDUCE/INCREASE NUMBER OF ROWS ###\n",
    "\n",
    "dflc_temp = dflc.sample(False, 0.01)\n",
    "\n",
    "# Convert the Spark DataFrame to a pandas DataFrame using Arrow\n",
    "result_pdf = dflc_temp.select(\"*\").toPandas()\n",
    "\n",
    "# Create a Spark DataFrame from a pandas DataFrame using Arrow\n",
    "dflc = spark.createDataFrame(result_pdf)\n",
    "\n",
    "#dflc.count()"
   ]
  },
  {
   "cell_type": "code",
   "execution_count": 8,
   "metadata": {},
   "outputs": [],
   "source": [
    "### COMMENT/UNCOMMENT TO REDUCE/INCREASE NUMBER OF ROWS ###\n",
    "\n",
    "dfrc_temp = dfrc.sample(False, 0.01)\n",
    "\n",
    "# Convert the Spark DataFrame to a pandas DataFrame using Arrow\n",
    "result_pdf = dfrc_temp.select(\"*\").toPandas()\n",
    "\n",
    "# Create a Spark DataFrame from a pandas DataFrame using Arrow\n",
    "dfrc = spark.createDataFrame(result_pdf)\n",
    "\n",
    "#dfrc.count()"
   ]
  },
  {
   "cell_type": "markdown",
   "metadata": {},
   "source": [
    "# Part 2: Analysis\n",
    "Use Spark and your favorite tool for data visualization to solve the following tasks.\n",
    "\n",
    "## The basics\n",
    "Compute and show a dataframe with the number of listings and neighbourhoods per city."
   ]
  },
  {
   "cell_type": "code",
   "execution_count": 9,
   "metadata": {},
   "outputs": [
    {
     "name": "stdout",
     "output_type": "stream",
     "text": [
      "+--------------------+---------------------+---------------+\n",
      "|                city|number_neighbourhoods|number_listings|\n",
      "+--------------------+---------------------+---------------+\n",
      "|             Palermo|                    9|          114.0|\n",
      "|      Brunswick West|                    1|            6.0|\n",
      "|           Dockland |                    1|            1.0|\n",
      "|Paris-15E-Arrondi...|                    1|            1.0|\n",
      "|             Frogner|                    2|            2.0|\n",
      "|             Firenze|                   13|         1245.0|\n",
      "|               Glebe|                    2|            2.0|\n",
      "|             Ipanema|                    1|            2.0|\n",
      "|         Taipei City|                    1|           48.0|\n",
      "|       Shinjuku City|                    1|            2.0|\n",
      "|           Minato-ku|                    2|           36.0|\n",
      "+--------------------+---------------------+---------------+\n",
      "only showing top 11 rows\n",
      "\n"
     ]
    }
   ],
   "source": [
    "dflc_count = dflc.groupBy('city').agg( \\\n",
    "    f.count('neighbourhood').alias('number_neighbourhoods'), \\\n",
    "    f.sum('host_total_listings_count').alias('number_listings'))\n",
    "\n",
    "dflc_count.show(11)"
   ]
  },
  {
   "cell_type": "markdown",
   "metadata": {},
   "source": [
    "Based on the table above, you should choose a city that you want to continue your analysis for. The city should have mulitple neighbourhoods with listings in them.\n",
    "\n",
    "Compute and visualize the number of listings of different property types per neighbourhood in your city."
   ]
  },
  {
   "cell_type": "code",
   "execution_count": 10,
   "metadata": {},
   "outputs": [
    {
     "name": "stdout",
     "output_type": "stream",
     "text": [
      "+-------------------+-------------+---------------+\n",
      "|      neighbourhood|property_type|number_listings|\n",
      "+-------------------+-------------+---------------+\n",
      "|             Aluche|    Apartment|          139.0|\n",
      "|         Arganzuela|    Apartment|            1.0|\n",
      "|        Carabanchel|    Apartment|            6.0|\n",
      "|             Centro|    Apartment|          117.0|\n",
      "|          ChamberÃ­|        House|            2.0|\n",
      "|      Ciudad Lineal|    Apartment|            4.0|\n",
      "|             Cortes|    Apartment|          133.0|\n",
      "|     Cuatro Caminos|    Apartment|          157.0|\n",
      "|           Delicias|    Apartment|            1.0|\n",
      "|        Embajadores|    Apartment|            4.0|\n",
      "|Fuencarral-el Pardo|        House|            8.0|\n",
      "|               Goya|    Apartment|            2.0|\n",
      "|           Justicia|    Apartment|            2.0|\n",
      "|         La Chopera|    Apartment|            1.0|\n",
      "|          La Latina|    Apartment|           30.0|\n",
      "|          MalasaÃ±a|        House|            0.0|\n",
      "|          Moratalaz|        House|            1.0|\n",
      "|            Palacio|    Apartment|            7.0|\n",
      "| Puente de Vallecas|    Apartment|           41.0|\n",
      "|             Retiro|    Apartment|            3.0|\n",
      "+-------------------+-------------+---------------+\n",
      "only showing top 20 rows\n",
      "\n"
     ]
    }
   ],
   "source": [
    "dflc_madrid_prop = dflc.filter(f.col('city') == 'Madrid').groupBy('neighbourhood','property_type') \\\n",
    "    .agg(f.sum('host_total_listings_count').alias('number_listings')) \\\n",
    "    .orderBy('neighbourhood',f.desc('number_listings'))\n",
    "\n",
    "# TODO: Visualize, some panda plots or something\n",
    "\n",
    "dflc_madrid_prop.show()"
   ]
  },
  {
   "cell_type": "markdown",
   "metadata": {},
   "source": [
    "## Prices\n",
    "Compute the minimum, maximum and average listing price in your city. "
   ]
  },
  {
   "cell_type": "code",
   "execution_count": 11,
   "metadata": {},
   "outputs": [
    {
     "name": "stdout",
     "output_type": "stream",
     "text": [
      "+------+---------+---------+---------+\n",
      "|  city|max_price|min_price|avg_price|\n",
      "+------+---------+---------+---------+\n",
      "|Madrid|   1262.0|     15.0|   116.33|\n",
      "+------+---------+---------+---------+\n",
      "\n"
     ]
    }
   ],
   "source": [
    "dflc_madrid_maxminavg = dflc.filter(f.col('city') == 'Madrid') \\\n",
    "    .groupBy('city').agg( \\\n",
    "        f.max('price').alias('max_price'), \\\n",
    "        f.min('price').alias('min_price'), \\\n",
    "        f.round(f.mean('price'),2).alias('avg_price'))\n",
    "\n",
    "dflc_madrid_maxminavg.show()"
   ]
  },
  {
   "cell_type": "markdown",
   "metadata": {},
   "source": [
    "Compute and visualize the distribution of listing prices in your city."
   ]
  },
  {
   "cell_type": "code",
   "execution_count": 12,
   "metadata": {},
   "outputs": [],
   "source": [
    "dflc_madrid_neigh = dflc.filter(f.col('city') == 'Madrid') \\\n",
    "    .groupBy('city','neighbourhood').agg( \\\n",
    "        f.count('price').alias('number_price'), \\\n",
    "        f.max('price').alias('max_price'), \\\n",
    "        f.min('price').alias('min_price'), \\\n",
    "        f.mean('price').alias('avg_price')) \\\n",
    "    .orderBy(f.desc('avg_price'))\n",
    "\n",
    "#dflc_madrid_neigh.show(5)"
   ]
  },
  {
   "cell_type": "code",
   "execution_count": 13,
   "metadata": {},
   "outputs": [
    {
     "data": {
      "text/plain": [
       "<matplotlib.axes._subplots.AxesSubplot at 0x25eb2d70d88>"
      ]
     },
     "execution_count": 13,
     "metadata": {},
     "output_type": "execute_result"
    }
   ],
   "source": [
    "pdf = dflc_madrid_neigh.select(\"*\").toPandas()\n",
    "\n",
    "p_max = pdf['max_price'].values\n",
    "p_min = pdf['min_price'].values\n",
    "p_avg = pdf['avg_price'].values\n",
    "df = pd.DataFrame({'Max price': p_max, 'Min price': p_min, 'Avg price': p_avg}, index=pdf['neighbourhood'].values)\n",
    "df.plot.bar(rot=90,figsize=(16, 4))"
   ]
  },
  {
   "cell_type": "markdown",
   "metadata": {},
   "source": [
    "The value of a listing is its rating divided by its price.\n",
    "\n",
    "Compute and show a dataframe with the 3 highest valued listings in each neighbourhood."
   ]
  },
  {
   "cell_type": "code",
   "execution_count": 14,
   "metadata": {},
   "outputs": [
    {
     "name": "stdout",
     "output_type": "stream",
     "text": [
      "+-------------+------+--------------------+-----+\n",
      "|neighbourhood| price|review_scores_rating|value|\n",
      "+-------------+------+--------------------+-----+\n",
      "|       Aluche|  55.0|               100.0| 1.82|\n",
      "|       Aluche|1262.0|                80.0| 0.06|\n",
      "|   Arganzuela|  24.0|               100.0| 4.17|\n",
      "|  Carabanchel|  15.0|                97.0| 6.47|\n",
      "|  Carabanchel|  20.0|               100.0|  5.0|\n",
      "|  Carabanchel|  30.0|               100.0| 3.33|\n",
      "|       Centro|  30.0|                93.0|  3.1|\n",
      "|       Centro|  29.0|                70.0| 2.41|\n",
      "|       Centro|  55.0|                98.0| 1.78|\n",
      "|    ChamberÃ­|  45.0|                94.0| 2.09|\n",
      "+-------------+------+--------------------+-----+\n",
      "only showing top 10 rows\n",
      "\n"
     ]
    }
   ],
   "source": [
    "dflc_madrid_value = dflc.filter(f.col('city') == 'Madrid') \\\n",
    "    .select( \\\n",
    "            col(\"neighbourhood\"), \\\n",
    "            col(\"price\"), \\\n",
    "            col(\"review_scores_rating\")) \\\n",
    "    .withColumn('value', f.round(f.col('review_scores_rating') / f.col('price'),2))\n",
    "\n",
    "#dflc_madrid_value.show(5)\n",
    "\n",
    "sorted_by_value_window = Window.partitionBy('neighbourhood').orderBy(f.desc('value'))\n",
    "\n",
    "ranked_dflc_madrid_value = dflc_madrid_value.withColumn('ValueRank', f.rank().over(sorted_by_value_window))\n",
    "\n",
    "ranked_dflc_madrid_value.filter(f.col('ValueRank') <= 3).drop('ValueRank').orderBy('neighbourhood', f.desc('value')).show(10)"
   ]
  },
  {
   "cell_type": "markdown",
   "metadata": {},
   "source": [
    "## Trends\n",
    "Now we want to analyze the \"popularity\" of your city. The data does not contain the number of bookings per listing, but we have a large number of reviews, and we will assume that this is a good indicator of activity on listings."
   ]
  },
  {
   "cell_type": "markdown",
   "metadata": {},
   "source": [
    "Compute and visualize the popularity (i.e., number of reviews) of your city over time."
   ]
  },
  {
   "cell_type": "code",
   "execution_count": 15,
   "metadata": {},
   "outputs": [],
   "source": [
    "dfc_madrid = dfrc.join(f.broadcast(dflc), (f.col('id') == f.col('listing_id')), 'inner') \\\n",
    "    .filter(f.col('city') == 'Madrid') \\\n",
    "    .drop( \\\n",
    "        'id', \\\n",
    "        'listing_id', \\\n",
    "        'reviewer_id', \\\n",
    "        'host_total_listings_count', \\\n",
    "        'property_type', \\\n",
    "        'price', \\\n",
    "        'country', \\\n",
    "        'reviewer_id')"
   ]
  },
  {
   "cell_type": "code",
   "execution_count": 16,
   "metadata": {},
   "outputs": [
    {
     "data": {
      "text/plain": [
       "<matplotlib.axes._subplots.AxesSubplot at 0x25ea992b288>"
      ]
     },
     "execution_count": 16,
     "metadata": {},
     "output_type": "execute_result"
    },
    {
     "data": {
      "image/png": "[encoded data removed]",
      "text/plain": [
       "<Figure size 1152x288 with 1 Axes>"
      ]
     },
     "metadata": {
      "needs_background": "light"
     },
     "output_type": "display_data"
    }
   ],
   "source": [
    "dfc_madrid_pop = dfc_madrid.groupBy('city','date').agg(f.count('date').alias('number_reviews')).orderBy('date')\n",
    "\n",
    "pdf = dfc_madrid_pop.select(\"*\").toPandas()\n",
    "\n",
    "number_reviews = pdf['number_reviews'].values\n",
    "df = pd.DataFrame({'Number of reviews': number_reviews}, index=pdf['date'].values)\n",
    "df.plot.line(rot=90,figsize=(16, 4))"
   ]
  },
  {
   "cell_type": "markdown",
   "metadata": {},
   "source": [
    "Compute and visualize the popularity of neighbourhoods over time. If there are many neighbourhoods in your city, you should select a few interesting ones for comparison."
   ]
  },
  {
   "cell_type": "code",
   "execution_count": 17,
   "metadata": {},
   "outputs": [
    {
     "data": {
      "text/plain": [
       "<matplotlib.axes._subplots.AxesSubplot at 0x25eab6d2988>"
      ]
     },
     "execution_count": 17,
     "metadata": {},
     "output_type": "execute_result"
    },
    {
     "data": {
      "image/png": "[encoded data removed]",
      "text/plain": [
       "<Figure size 1152x288 with 1 Axes>"
      ]
     },
     "metadata": {
      "needs_background": "light"
     },
     "output_type": "display_data"
    }
   ],
   "source": [
    "dfc_madrid_neigh_pop = dfc_madrid.filter( \\\n",
    "        (f.col('neighbourhood') == 'Centro') | \\\n",
    "        (f.col('neighbourhood') == 'San Blas') | \\\n",
    "        (f.col('neighbourhood') == 'Aluche') | \\\n",
    "        (f.col('neighbourhood') == 'MalasaÃ±a')) \\\n",
    "    .groupBy('city','neighbourhood','date') \\\n",
    "    .agg(f.count('date').alias('number_reviews'))\n",
    "\n",
    "pdf = dfc_madrid_neigh_pop.select(\"*\").toPandas()\n",
    "\n",
    "pdf = pdf.pivot(index='date', columns='neighbourhood', values='number_reviews')\n",
    "\n",
    "pdf.plot.line(rot=90,figsize=(16, 4))"
   ]
  },
  {
   "cell_type": "markdown",
   "metadata": {},
   "source": [
    "Compute and visualize the popularity of your city by season. For example, visualize the popularity of your city per month."
   ]
  },
  {
   "cell_type": "code",
   "execution_count": 18,
   "metadata": {},
   "outputs": [
    {
     "data": {
      "text/plain": [
       "<matplotlib.axes._subplots.AxesSubplot at 0x25ead2101c8>"
      ]
     },
     "execution_count": 18,
     "metadata": {},
     "output_type": "execute_result"
    },
    {
     "data": {
      "image/png": "[encoded data removed]",
      "text/plain": [
       "<Figure size 1152x288 with 1 Axes>"
      ]
     },
     "metadata": {
      "needs_background": "light"
     },
     "output_type": "display_data"
    }
   ],
   "source": [
    "dfc_madrid_pop_season = dfc_madrid.withColumn('yr_mth', f.col('date').substr(1, 7)) \\\n",
    "    .groupBy('city','yr_mth') \\\n",
    "    .agg(f.count('yr_mth').alias('number_reviews')) \\\n",
    "    .orderBy('yr_mth')\n",
    "\n",
    "pdf = dfc_madrid_pop_season.select(\"*\").toPandas()\n",
    "\n",
    "number_reviews = pdf['number_reviews'].values\n",
    "df = pd.DataFrame({'Number of reviews': number_reviews}, index=pdf['yr_mth'].values)\n",
    "df.plot.line(rot=90,figsize=(16, 4))"
   ]
  },
  {
   "cell_type": "markdown",
   "metadata": {},
   "source": [
    "## Reviews\n",
    "In this part you should determine which words used in reviews that are the most positive. \n",
    "\n",
    "The individual reviews do not have a rating of the listing, so we will assume that each review gave the average rating to the listing, i.e., the one on the listing.\n",
    "\n",
    "You should assign a positivity weight to each word seen in reviews and list the words with the highest weight. It is up to you to decide what the weight should be. For example, it can be a function of the rating on the listing on which it occurs, the number of reviews it occurs in, and the number of unique listings for which it was used to review.\n",
    "\n",
    "Depending on your choice of weight function, you may also want to do some filtering of words. For example, remove words that only occur in a few reviews."
   ]
  },
  {
   "cell_type": "code",
   "execution_count": 49,
   "metadata": {},
   "outputs": [],
   "source": [
    "link = \"http://ir.dcs.gla.ac.uk/resources/linguistic_utils/stop_words\"\n",
    "\n",
    "urlcont = urlopen(link)\n",
    "myfile = urlcont.read()\n",
    "sw_dc = myfile.decode(\"utf-8\")\n",
    "stop_words = sw_dc.split(\"\\r\\n\")\n",
    "#print(stop_words)"
   ]
  },
  {
   "cell_type": "code",
   "execution_count": 81,
   "metadata": {},
   "outputs": [],
   "source": [
    "weight_dict = {}\n",
    "\n",
    "#for w in word_list:\n",
    "#    weight_dict[w[0]] = [0,0]"
   ]
  },
  {
   "cell_type": "code",
   "execution_count": 21,
   "metadata": {},
   "outputs": [
    {
     "name": "stdout",
     "output_type": "stream",
     "text": [
      "+--------------------+--------------------+\n",
      "|            comments|review_scores_rating|\n",
      "+--------------------+--------------------+\n",
      "|Everything was pe...|                97.0|\n",
      "|We were so happy ...|                99.0|\n",
      "|HÃ¥konâ€™s apartm...|                96.0|\n",
      "|Booked the apartm...|                96.0|\n",
      "|The host canceled...|                98.0|\n",
      "|The Eivind's apar...|               100.0|\n",
      "|Complies with the...|                98.0|\n",
      "|It was a really n...|                98.0|\n",
      "|         DÃ©jÃ  fait|                99.0|\n",
      "|Muy bien ubicado....|                95.0|\n",
      "|      muchas gracias|                99.0|\n",
      "|Highly recommend ...|               100.0|\n",
      "|CÃ³modo para esta...|                94.0|\n",
      "|El dpto es tal cu...|                98.0|\n",
      "|Angela es una per...|                98.0|\n",
      "|This place is in ...|                98.0|\n",
      "|O studio da Marag...|                98.0|\n",
      "|Foi tudo perfeito...|                88.0|\n",
      "|O apartamento Ã© ...|                99.0|\n",
      "|Logement assez pr...|                94.0|\n",
      "+--------------------+--------------------+\n",
      "only showing top 20 rows\n",
      "\n"
     ]
    }
   ],
   "source": [
    "dfc_all = dfrc.join(f.broadcast(dflc), (f.col('id') == f.col('listing_id')), 'inner') \\\n",
    "    .drop( \\\n",
    "        'id', \\\n",
    "        'listing_id', \\\n",
    "        'date', \\\n",
    "        'neighbourhood', \\\n",
    "        'city', \\\n",
    "        'reviewer_id', \\\n",
    "        'host_total_listings_count', \\\n",
    "        'property_type', \\\n",
    "        'price', \\\n",
    "        'country', \\\n",
    "        'reviewer_id')\n",
    "\n",
    "dfc_all.show()"
   ]
  },
  {
   "cell_type": "code",
   "execution_count": 83,
   "metadata": {},
   "outputs": [
    {
     "name": "stdout",
     "output_type": "stream",
     "text": [
      "+-------------+-----+\n",
      "|         word|count|\n",
      "+-------------+-----+\n",
      "|        great|  255|\n",
      "|        place|  210|\n",
      "|         stay|  171|\n",
      "|    apartment|  165|\n",
      "|     location|  158|\n",
      "|        clean|  123|\n",
      "|         host|  102|\n",
      "|         nice|   96|\n",
      "|           la|   85|\n",
      "|            y|   83|\n",
      "|    recommend|   83|\n",
      "|       really|   73|\n",
      "|        close|   73|\n",
      "|  comfortable|   71|\n",
      "|      perfect|   69|\n",
      "|         easy|   61|\n",
      "|         good|   57|\n",
      "|          muy|   56|\n",
      "|           es|   56|\n",
      "|   definitely|   55|\n",
      "|        super|   54|\n",
      "|         room|   53|\n",
      "|         home|   51|\n",
      "|         walk|   50|\n",
      "|        house|   49|\n",
      "|           el|   48|\n",
      "|         time|   47|\n",
      "|           et|   47|\n",
      "|           en|   47|\n",
      "|         city|   47|\n",
      "|          que|   45|\n",
      "|      amazing|   44|\n",
      "|        space|   43|\n",
      "|      helpful|   43|\n",
      "|       needed|   41|\n",
      "|    wonderful|   41|\n",
      "|  restaurants|   40|\n",
      "|         flat|   39|\n",
      "|         just|   39|\n",
      "|          und|   37|\n",
      "|    beautiful|   36|\n",
      "|      station|   35|\n",
      "|      located|   34|\n",
      "|        quiet|   34|\n",
      "|         bien|   33|\n",
      "|         like|   33|\n",
      "|       little|   33|\n",
      "|       street|   32|\n",
      "|       highly|   32|\n",
      "|        trã¨s|   31|\n",
      "|       lovely|   31|\n",
      "|     spacious|   31|\n",
      "|   experience|   31|\n",
      "|      walking|   31|\n",
      "|     friendly|   30|\n",
      "|         area|   29|\n",
      "|           ã |   29|\n",
      "|        night|   29|\n",
      "|     distance|   28|\n",
      "|        hosts|   27|\n",
      "|        beach|   27|\n",
      "|        right|   27|\n",
      "|        metro|   26|\n",
      "|            e|   26|\n",
      "|      minutes|   25|\n",
      "|      staying|   25|\n",
      "|        short|   25|\n",
      "|      enjoyed|   24|\n",
      "|            2|   24|\n",
      "|         food|   24|\n",
      "|       thanks|   23|\n",
      "|          bus|   23|\n",
      "|        loved|   23|\n",
      "|       stayed|   23|\n",
      "| neighborhood|   23|\n",
      "|          est|   22|\n",
      "|          una|   22|\n",
      "|           le|   22|\n",
      "|       airbnb|   22|\n",
      "|       family|   22|\n",
      "|       people|   22|\n",
      "|         felt|   22|\n",
      "|          bit|   21|\n",
      "|         lots|   21|\n",
      "|        small|   21|\n",
      "|     bathroom|   21|\n",
      "|          lot|   21|\n",
      "|         best|   21|\n",
      "|communication|   21|\n",
      "|         cozy|   20|\n",
      "|    welcoming|   20|\n",
      "|        local|   20|\n",
      "|         pour|   20|\n",
      "|   convenient|   20|\n",
      "|        shops|   20|\n",
      "|         feel|   20|\n",
      "|          die|   20|\n",
      "|       center|   19|\n",
      "|           se|   19|\n",
      "|         near|   19|\n",
      "+-------------+-----+\n",
      "only showing top 100 rows\n",
      "\n"
     ]
    }
   ],
   "source": [
    "dfc_top_words = dfc_all.withColumn('word', f.explode(f.split(lower(f.regexp_replace(f.col('comments'), \\\n",
    "        \"[!\\\"#$%&\\'()*+,-./:;<=>?@^_`{|}~]\", \"\")), ' '))) \\\n",
    "    .where(f.col('word').isin(*stop_words) == False) \\\n",
    "    .groupBy('word') \\\n",
    "    .count() \\\n",
    "    .sort('count', ascending=False)\n",
    "\n",
    "dfc_top_words.show(100)\n",
    "\n",
    "#word_list = [list(row) for row in dfc_top_words.limit(100).select('word').collect()]"
   ]
  }
 ],
 "metadata": {
  "kernelspec": {
   "display_name": "Python 3",
   "language": "python",
   "name": "python3"
  },
  "language_info": {
   "codemirror_mode": {
    "name": "ipython",
    "version": 3
   },
   "file_extension": ".py",
   "mimetype": "text/x-python",
   "name": "python",
   "nbconvert_exporter": "python",
   "pygments_lexer": "ipython3",
   "version": "3.7.4"
  }
 },
 "nbformat": 4,
 "nbformat_minor": 2
}
