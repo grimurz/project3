{
 "cells": [
  {
   "cell_type": "markdown",
   "metadata": {},
   "source": [
    "# Project 3: Airbnb\n",
    "**This is the third of three mandatory projects to be handed in as part of the assessment for the course 02807 Computational Tools for Data Science at Technical University of Denmark, autumn 2019.**\n",
    "\n",
    "#### Practical info\n",
    "- **The project is to be done in groups of at most 3 students**\n",
    "- **Each group has to hand in _one_ Jupyter notebook (this notebook) with their solution**\n",
    "- **The hand-in of the notebook is due 2019-12-05, 23:59 on DTU Inside**\n",
    "\n",
    "#### Your solution\n",
    "- **Your solution should be in Python/PySpark**\n",
    "- **For each question you may use as many cells for your solution as you like**\n",
    "- **You should not remove the problem statements**\n",
    "- **Your notebook should be runnable, i.e., clicking [>>] in Jupyter should generate the result that you want to be assessed**\n",
    "- **You are not expected to use machine learning to solve any of the exercises**"
   ]
  },
  {
   "cell_type": "markdown",
   "metadata": {},
   "source": [
    "# Introduction\n",
    "[Airbnb](http://airbnb.com) is an online marketplace for arranging or offering lodgings. In this project you will use Spark to analyze data obtained from the Airbnb website. The purpose of the analysis is to extract information about trends and patterns from the data.\n",
    "\n",
    "The project has two parts.\n",
    "\n",
    "### Part 1: Loading, describing and preparing the data\n",
    "There's quite a lot of data. Make sure that you can load and correctly parse the data, and that you understand what the dataset contains. You should also prepare the data for the analysis in part two. This means cleaning it and staging it so that subsequent queries are fast.\n",
    "\n",
    "### Par 2: Analysis\n",
    "In this part your goal is to learn about trends and usage patterns from the data. You should give solutions to the tasks defined in this notebook, and you should use Spark to do the data processing. You may use other libraries like for instance Pandas and matplotlib for visualisation.\n",
    "\n",
    "## Guidelines\n",
    "- Processing data should be done using Spark. Once data has been reduced to aggregate form, you may use collect to extract it into Python for visualisation.\n",
    "- Your solutions will be evaluated by correctness, code quality and interpretability of the output. This means that you have to write clean and efficient Spark code that will generate sensible execution plans, and that the tables and visualisations that you produce are meaningful and easy to read.\n",
    "- You may add more cells for your solutions, but you should not modify the notebook otherwise."
   ]
  },
  {
   "cell_type": "markdown",
   "metadata": {},
   "source": [
    "### Create Spark session and define imports"
   ]
  },
  {
   "cell_type": "code",
   "execution_count": 2,
   "metadata": {},
   "outputs": [],
   "source": [
    "from pyspark.sql import *\n",
    "from pyspark.sql import functions as f\n",
    "from pyspark.sql.types import *\n",
    "import os\n",
    "\n",
    "os.environ[\"PYSPARK_PYTHON\"] = \"/Library/Frameworks/Python.framework/Versions/3.7/bin/python3.7\"\n",
    "\n",
    "spark = SparkSession.builder.appName(\"Project3\").getOrCreate()"
   ]
  },
  {
   "cell_type": "markdown",
   "metadata": {},
   "source": [
    "# Part 1: Loading, describing and preparing the data\n",
    "The data comes in two files. Start by downloading the files and putting them in your `data/` folder.\n",
    "\n",
    "- [Listings](https://files.dtu.dk/u/siPzAasj8w2gI_ME/listings.csv?l) (5 GB)\n",
    "- [Reviews](https://files.dtu.dk/u/k3oaPYp6GjKBeho4/reviews.csv?l) (9.5 GB)"
   ]
  },
  {
   "cell_type": "markdown",
   "metadata": {},
   "source": [
    "### Load the data\n",
    "The data has multiline rows (rows that span multiple lines in the file). To correctly parse these you should use the `multiline` option and set the `escape` character to be `\"`."
   ]
  },
  {
   "cell_type": "code",
   "execution_count": 3,
   "metadata": {},
   "outputs": [],
   "source": [
    "df = spark.read.option('header', True).option('inferSchema', True).option('escape', '\"').option('multiLine', True).csv('/Users/isma/Desktop/data-science/02807-comp-tools/docker/work/data/listings.csv')\n",
    "df_reviews = spark.read.option(\"multiLine\", True).option('header', True).option(\"escape\", \"\\\"\").csv('/Users/isma/Desktop/data-science/02807-comp-tools/docker/work/data/reviews.csv')"
   ]
  },
  {
   "cell_type": "markdown",
   "metadata": {},
   "source": [
    "### Describe the data\n",
    "List the features (schema) and sizes of the datasets."
   ]
  },
  {
   "cell_type": "markdown",
   "metadata": {},
   "source": [
    "The data consists of:\n",
    "- id (integer?)\n",
    "- listing_url (string)\n",
    "- scrape_id (integer?)\n",
    "- last_scraped (date?)\n",
    "- name (string)\n",
    "- summary (string)\n",
    "- space (integer?)\n",
    "- description (string)\n",
    "- experiences_offered (integer?)\n",
    "- neighborhood_overview\n",
    "- notes (string)\n",
    "- transit\n",
    "- access\n",
    "- interaction\n",
    "- house_rules (string)\n",
    "- thumbnail_url (string)\n",
    "- medium_url (string)\n",
    "- picture_url (string)\n",
    "- xl_picture_url (string)\n",
    "- host_id (integer?)\n",
    "- host_url (string)\n",
    "- host_name (string)\n",
    "- host_since (date?)\n",
    "- host_location (city?)\n",
    "- host_about (string)\n",
    "- host_response_time (integer?)\n",
    "- host_response_rate (number %)\n",
    "- host_acceptance_rate (number %)\n",
    "- host_is_superhost (boolean)\n",
    "- host_thumbnail_url (string)\n",
    "- host_picture_url (string)\n",
    "- host_neighbourhood (string)\n",
    "- host_listings_count (integer?)\n",
    "- host_total_listings_count (integer?)\n",
    "- host_verifications (integer?)\n",
    "- host_has_profile_pic (boolean?)\n",
    "- host_identity_verified (boolean?)\n",
    "- street (string)\n",
    "- neighbourhood (string)\n",
    "- neighbourhood_cleansed\n",
    "- neighbourhood_group_cleansed\n",
    "- city (string)\n",
    "- state (string)\n",
    "- zipcode (integer?)\n",
    "- market (string)\n",
    "- smart_location\n",
    "- country_code (string) 2 digits\n",
    "- country (string)\n",
    "- latitude (integer?)\n",
    "- longitude (integer?)\n",
    "- is_location_exact (boolean?)\n",
    "- property_type ???\n",
    "- room_type ???\n",
    "- accommodates (integer?)\n",
    "- bathrooms (integer?)\n",
    "- bedrooms (integer?)\n",
    "- beds (integer?)\n",
    "- bed_type ???\n",
    "- amenities (integer?)\n",
    "- square_feet (integer?)\n",
    "- price (integer?)\n",
    "- weekly_price (integer?)\n",
    "- monthly_price (integer?)\n",
    "- security_deposit (integer?)\n",
    "- cleaning_fee (integer?)\n",
    "- guests_included ???\n",
    "- extra_people (integer?)\n",
    "- minimum_nights (integer?)\n",
    "- maximum_nights (integer?)\n",
    "- minimum_minimum_nights (integer?)\n",
    "- maximum_minimum_nights (integer?)\n",
    "- minimum_maximum_nights (integer?)\n",
    "- maximum_maximum_nights (integer?)\n",
    "- minimum_nights_avg_ntm (integer?)\n",
    "- maximum_nights_avg_ntm (integer?)\n",
    "- calendar_updated ???\n",
    "- has_availability (boolean?)\n",
    "- availability_30 ???\n",
    "- availability_60 ???\n",
    "- availability_90 ???\n",
    "- availability_365 ???\n",
    "- calendar_last_scraped (date?)\n",
    "- number_of_reviews (integer?)\n",
    "- number_of_reviews_ltm (integer?)\n",
    "- first_review ???\n",
    "- last_review ???\n",
    "- review_scores_rating  (float?)\n",
    "- review_scores_accuracy  (float?)\n",
    "- review_scores_cleanliness  (float?)\n",
    "- review_scores_checkin  (float?)\n",
    "- review_scores_communication  (float?)\n",
    "- review_scores_location  (float?)\n",
    "- review_scores_value  (float?)\n",
    "- requires_license  (float?)\n",
    "- license ???\n",
    "- jurisdiction_names (string)\n",
    "- instant_bookable (boolean?)\n",
    "- is_business_travel_ready (boolean?)\n",
    "- cancellation_policy ???\n",
    "- require_guest_profile_picture (boolean?)\n",
    "- require_guest_phone_verification (boolean?)\n",
    "- calculated_host_listings_count (integer?)\n",
    "- calculated_host_listings_count_entire_homes (integer?)\n",
    "- calculated_host_listings_count_private_rooms (integer?)\n",
    "- calculated_host_listings_count_shared_rooms (integer?)\n",
    "- reviews_per_month (integer?)"
   ]
  },
  {
   "cell_type": "markdown",
   "metadata": {},
   "source": [
    "Print the schema of the dataset"
   ]
  },
  {
   "cell_type": "code",
   "execution_count": 4,
   "metadata": {},
   "outputs": [
    {
     "name": "stdout",
     "output_type": "stream",
     "text": [
      "+----------+---------+----------+-----------+-------------+--------------------+\n",
      "|listing_id|       id|      date|reviewer_id|reviewer_name|            comments|\n",
      "+----------+---------+----------+-----------+-------------+--------------------+\n",
      "|    145320|156423122|2017-05-30|  123386382|        Erwin|Prima plek om Sto...|\n",
      "|    145320|170211906|2017-07-15|  123091743|         Anne|Cosy and clean fl...|\n",
      "|    145320|172169175|2017-07-20|      78004|     Patricia|The host canceled...|\n",
      "|    145320|176647581|2017-07-31|  103178743|    Charlotte|Kim's place was o...|\n",
      "|    145320|185676021|2017-08-22|    4023961|    Alexander|great spacious ap...|\n",
      "+----------+---------+----------+-----------+-------------+--------------------+\n",
      "only showing top 5 rows\n",
      "\n",
      "root\n",
      " |-- id: string (nullable = true)\n",
      " |-- listing_url: string (nullable = true)\n",
      " |-- scrape_id: string (nullable = true)\n",
      " |-- last_scraped: string (nullable = true)\n",
      " |-- name: string (nullable = true)\n",
      " |-- summary: string (nullable = true)\n",
      " |-- space: string (nullable = true)\n",
      " |-- description: string (nullable = true)\n",
      " |-- experiences_offered: string (nullable = true)\n",
      " |-- neighborhood_overview: string (nullable = true)\n",
      " |-- notes: string (nullable = true)\n",
      " |-- transit: string (nullable = true)\n",
      " |-- access: string (nullable = true)\n",
      " |-- interaction: string (nullable = true)\n",
      " |-- house_rules: string (nullable = true)\n",
      " |-- thumbnail_url: string (nullable = true)\n",
      " |-- medium_url: string (nullable = true)\n",
      " |-- picture_url: string (nullable = true)\n",
      " |-- xl_picture_url: string (nullable = true)\n",
      " |-- host_id: string (nullable = true)\n",
      " |-- host_url: string (nullable = true)\n",
      " |-- host_name: string (nullable = true)\n",
      " |-- host_since: string (nullable = true)\n",
      " |-- host_location: string (nullable = true)\n",
      " |-- host_about: string (nullable = true)\n",
      " |-- host_response_time: string (nullable = true)\n",
      " |-- host_response_rate: string (nullable = true)\n",
      " |-- host_acceptance_rate: string (nullable = true)\n",
      " |-- host_is_superhost: string (nullable = true)\n",
      " |-- host_thumbnail_url: string (nullable = true)\n",
      " |-- host_picture_url: string (nullable = true)\n",
      " |-- host_neighbourhood: string (nullable = true)\n",
      " |-- host_listings_count: string (nullable = true)\n",
      " |-- host_total_listings_count: string (nullable = true)\n",
      " |-- host_verifications: string (nullable = true)\n",
      " |-- host_has_profile_pic: string (nullable = true)\n",
      " |-- host_identity_verified: string (nullable = true)\n",
      " |-- street: string (nullable = true)\n",
      " |-- neighbourhood: string (nullable = true)\n",
      " |-- neighbourhood_cleansed: string (nullable = true)\n",
      " |-- neighbourhood_group_cleansed: string (nullable = true)\n",
      " |-- city: string (nullable = true)\n",
      " |-- state: string (nullable = true)\n",
      " |-- zipcode: string (nullable = true)\n",
      " |-- market: string (nullable = true)\n",
      " |-- smart_location: string (nullable = true)\n",
      " |-- country_code: string (nullable = true)\n",
      " |-- country: string (nullable = true)\n",
      " |-- latitude: string (nullable = true)\n",
      " |-- longitude: string (nullable = true)\n",
      " |-- is_location_exact: string (nullable = true)\n",
      " |-- property_type: string (nullable = true)\n",
      " |-- room_type: string (nullable = true)\n",
      " |-- accommodates: string (nullable = true)\n",
      " |-- bathrooms: string (nullable = true)\n",
      " |-- bedrooms: string (nullable = true)\n",
      " |-- beds: string (nullable = true)\n",
      " |-- bed_type: string (nullable = true)\n",
      " |-- amenities: string (nullable = true)\n",
      " |-- square_feet: string (nullable = true)\n",
      " |-- price: string (nullable = true)\n",
      " |-- weekly_price: string (nullable = true)\n",
      " |-- monthly_price: string (nullable = true)\n",
      " |-- security_deposit: string (nullable = true)\n",
      " |-- cleaning_fee: string (nullable = true)\n",
      " |-- guests_included: string (nullable = true)\n",
      " |-- extra_people: string (nullable = true)\n",
      " |-- minimum_nights: string (nullable = true)\n",
      " |-- maximum_nights: string (nullable = true)\n",
      " |-- minimum_minimum_nights: string (nullable = true)\n",
      " |-- maximum_minimum_nights: string (nullable = true)\n",
      " |-- minimum_maximum_nights: string (nullable = true)\n",
      " |-- maximum_maximum_nights: string (nullable = true)\n",
      " |-- minimum_nights_avg_ntm: string (nullable = true)\n",
      " |-- maximum_nights_avg_ntm: string (nullable = true)\n",
      " |-- calendar_updated: string (nullable = true)\n",
      " |-- has_availability: string (nullable = true)\n",
      " |-- availability_30: string (nullable = true)\n",
      " |-- availability_60: string (nullable = true)\n",
      " |-- availability_90: string (nullable = true)\n",
      " |-- availability_365: string (nullable = true)\n",
      " |-- calendar_last_scraped: string (nullable = true)\n",
      " |-- number_of_reviews: string (nullable = true)\n",
      " |-- number_of_reviews_ltm: string (nullable = true)\n",
      " |-- first_review: string (nullable = true)\n",
      " |-- last_review: string (nullable = true)\n",
      " |-- review_scores_rating: string (nullable = true)\n",
      " |-- review_scores_accuracy: string (nullable = true)\n",
      " |-- review_scores_cleanliness: string (nullable = true)\n",
      " |-- review_scores_checkin: string (nullable = true)\n",
      " |-- review_scores_communication: string (nullable = true)\n",
      " |-- review_scores_location: string (nullable = true)\n",
      " |-- review_scores_value: string (nullable = true)\n",
      " |-- requires_license: string (nullable = true)\n",
      " |-- license: string (nullable = true)\n",
      " |-- jurisdiction_names: string (nullable = true)\n",
      " |-- instant_bookable: string (nullable = true)\n",
      " |-- is_business_travel_ready: string (nullable = true)\n",
      " |-- cancellation_policy: string (nullable = true)\n",
      " |-- require_guest_profile_picture: string (nullable = true)\n",
      " |-- require_guest_phone_verification: string (nullable = true)\n",
      " |-- calculated_host_listings_count: string (nullable = true)\n",
      " |-- calculated_host_listings_count_entire_homes: string (nullable = true)\n",
      " |-- calculated_host_listings_count_private_rooms: string (nullable = true)\n",
      " |-- calculated_host_listings_count_shared_rooms: string (nullable = true)\n",
      " |-- reviews_per_month: string (nullable = true)\n",
      "\n"
     ]
    }
   ],
   "source": [
    "df_reviews.show(5)\n",
    "df.printSchema()"
   ]
  },
  {
   "cell_type": "markdown",
   "metadata": {},
   "source": [
    "Number of rows:"
   ]
  },
  {
   "cell_type": "code",
   "execution_count": 5,
   "metadata": {},
   "outputs": [
    {
     "name": "stdout",
     "output_type": "stream",
     "text": [
      "Reviews file rows: 32297300. Reviews file columns: 6\n",
      "Listings file rows: 1330480. Reviews file columns: 106\n"
     ]
    }
   ],
   "source": [
    "print(\"Reviews file rows: \" + str(df_reviews.count()) + \". Reviews file columns: \" + str(len(df_reviews.columns)))\n",
    "print(\"Listings file rows: \" + str(df.count()) + \". Reviews file columns: \" + str(len(df.columns)))"
   ]
  },
  {
   "cell_type": "markdown",
   "metadata": {},
   "source": [
    "### Prepare the data for analysis\n",
    "You should prepare two dataframes to be used in the analysis part of the project. You should not be concerned with cleaning the data. There's a lot of it, so it will be sufficient to drop rows that have bad values. You may want to go back and refine this step at a later point when doing the analysis.\n",
    "\n",
    "You may also want to consider if you can stage your data so that subsequent processing is more efficient (this is not strictly necessary for Spark to run, but you may be able to decrease the time you sit around waiting for Spark to finish things)"
   ]
  },
  {
   "cell_type": "code",
   "execution_count": 6,
   "metadata": {},
   "outputs": [],
   "source": [
    "# drop all rows with null values\n",
    "df = df.drop('all')\n",
    "# drop all rows with duplicate values\n",
    "df2 = df.dropDuplicates()\n",
    "\n",
    "# TODO: drop all null prices and rating values (I guess drop the whole row)\n"
   ]
  },
  {
   "cell_type": "code",
   "execution_count": 7,
   "metadata": {},
   "outputs": [
    {
     "name": "stdout",
     "output_type": "stream",
     "text": [
      "+-------------+---------+\n",
      "|      country|count(id)|\n",
      "+-------------+---------+\n",
      "|          1.0|        2|\n",
      "|  Taipei City|        1|\n",
      "|       Madrid|        1|\n",
      "|       Sweden|     7710|\n",
      "|    Singapore|     7675|\n",
      "|       Turkey|    20610|\n",
      "|      Germany|    36781|\n",
      "|       France|    86968|\n",
      "|       Greece|    54765|\n",
      "|     Dominica|        1|\n",
      "|       Taiwan|    10116|\n",
      "|         null|        5|\n",
      "|    Argentina|    21648|\n",
      "|      Belgium|    12225|\n",
      "|            f|        1|\n",
      "|United States|   256997|\n",
      "|        China|    35173|\n",
      "|           BR|        1|\n",
      "|      Andorra|        1|\n",
      "|        Italy|   178476|\n",
      "+-------------+---------+\n",
      "only showing top 20 rows\n",
      "\n"
     ]
    }
   ],
   "source": [
    "df.groupBy('country').agg(f.count('id')).show()"
   ]
  },
  {
   "cell_type": "markdown",
   "metadata": {},
   "source": [
    "# Part 2: Analysis\n",
    "Use Spark and your favorite tool for data visualization to solve the following tasks.\n",
    "\n",
    "## The basics\n",
    "Compute and show a dataframe with the number of listings and neighbourhoods per city."
   ]
  },
  {
   "cell_type": "code",
   "execution_count": 8,
   "metadata": {},
   "outputs": [
    {
     "name": "stdout",
     "output_type": "stream",
     "text": [
      "+--------------------+---------------------+---------------+\n",
      "|                city|number_neighbourhoods|number_listings|\n",
      "+--------------------+---------------------+---------------+\n",
      "|           Cape town|                    0|              4|\n",
      "|Plumstead, Cape town|                    0|              1|\n",
      "|     Río de janeiro |                    1|              1|\n",
      "|Saint-Médard-en-J...|                    0|            167|\n",
      "|             LYON 02|                    4|              4|\n",
      "|Paris-15E-Arrondi...|                  100|            100|\n",
      "|               75007|                    3|              3|\n",
      "|             Antwerp|                    0|            205|\n",
      "| WATERMAEL BOITSFORT|                    1|              1|\n",
      "|             beyazıd|                    1|              1|\n",
      "|         kagirthâne |                    1|              1|\n",
      "|          Seyit Ömer|                    1|              1|\n",
      "|              Sopela|                    0|             48|\n",
      "|       Quejana-Ayala|                    0|              1|\n",
      "|            Lantaron|                    0|              2|\n",
      "|           Aperregui|                    0|              1|\n",
      "|            Cadaqués|                    0|            463|\n",
      "|         Palau-Sator|                    0|              5|\n",
      "|Santa Cristina d'...|                    0|              1|\n",
      "|  Cornellá del Terri|                    0|              3|\n",
      "+--------------------+---------------------+---------------+\n",
      "only showing top 20 rows\n",
      "\n"
     ]
    }
   ],
   "source": [
    "basic_df = df.select('city', 'neighbourhood', 'host_listings_count', 'property_type', 'price')\n",
    "basic_query = basic_df.groupBy('city').agg(f.count('neighbourhood').alias('number_neighbourhoods'), f.count('host_listings_count').alias('number_listings'))\n",
    "# .agg(f.count('host_listings_count').alias('number_listings')\n",
    "basic_query.show()\n"
   ]
  },
  {
   "cell_type": "markdown",
   "metadata": {},
   "source": [
    "Based on the table above, you should choose a city that you want to continue your analysis for. The city should have mulitple neighbourhoods with listings in them.\n",
    "\n",
    "Compute and visualize the number of listings of different property types per neighbourhood in your city."
   ]
  },
  {
   "cell_type": "code",
   "execution_count": 9,
   "metadata": {},
   "outputs": [
    {
     "name": "stdout",
     "output_type": "stream",
     "text": [
      "+-------------+--------------------+--------------------------+\n",
      "|neighbourhood|       property_type|count(host_listings_count)|\n",
      "+-------------+--------------------+--------------------------+\n",
      "|      Acacias|         Condominium|                         1|\n",
      "|      Acacias|         Guest suite|                         2|\n",
      "|      Acacias|  Serviced apartment|                         2|\n",
      "|      Acacias|               House|                         4|\n",
      "|      Acacias|           Apartment|                        61|\n",
      "|      Acacias|                Loft|                         1|\n",
      "|      Acacias|Casa particular (...|                         2|\n",
      "|      Adelfas|               House|                         2|\n",
      "|      Adelfas|                Loft|                         2|\n",
      "|      Adelfas|               Other|                         1|\n",
      "|      Adelfas|         Condominium|                         2|\n",
      "|      Adelfas|           Apartment|                        30|\n",
      "|      Almagro|  Serviced apartment|                         9|\n",
      "|      Almagro|   Bed and breakfast|                         1|\n",
      "|      Almagro|               House|                         3|\n",
      "|      Almagro|                Loft|                         4|\n",
      "|      Almagro|           Apartment|                        77|\n",
      "|      Almagro|         Condominium|                         2|\n",
      "|      Almagro|Casa particular (...|                         1|\n",
      "|     Almenara|                Loft|                         2|\n",
      "+-------------+--------------------+--------------------------+\n",
      "only showing top 20 rows\n",
      "\n"
     ]
    }
   ],
   "source": [
    "basic_second_df = basic_df.filter(f.col('city') == 'Madrid').select('neighbourhood', 'host_listings_count', 'property_type')\n",
    "basic_second_df = basic_second_df.dropna()\n",
    "basic_second_query = basic_second_df.groupBy('neighbourhood','property_type').agg(f.count('host_listings_count')).orderBy('neighbourhood').show()\n",
    "\n",
    "\n"
   ]
  },
  {
   "cell_type": "markdown",
   "metadata": {},
   "source": [
    "## Prices\n",
    "Compute the minimum, maximum and average listing price in your city. "
   ]
  },
  {
   "cell_type": "code",
   "execution_count": 10,
   "metadata": {},
   "outputs": [
    {
     "name": "stdout",
     "output_type": "stream",
     "text": [
      "+-------+\n",
      "|  price|\n",
      "+-------+\n",
      "|$100.00|\n",
      "| $70.00|\n",
      "| $17.00|\n",
      "| $80.00|\n",
      "|$115.00|\n",
      "| $25.00|\n",
      "| $65.00|\n",
      "| $54.00|\n",
      "| $90.00|\n",
      "| $40.00|\n",
      "| $45.00|\n",
      "| $65.00|\n",
      "| $70.00|\n",
      "| $75.00|\n",
      "| $75.00|\n",
      "|$110.00|\n",
      "| $85.00|\n",
      "| $80.00|\n",
      "| $63.00|\n",
      "|$102.00|\n",
      "+-------+\n",
      "only showing top 20 rows\n",
      "\n"
     ]
    }
   ],
   "source": [
    "madrid_prices = basic_df.filter(f.col('city') == 'Madrid').select('price').drop('all')\n",
    "madrid_prices.show()\n"
   ]
  },
  {
   "cell_type": "markdown",
   "metadata": {},
   "source": [
    "I want to do a function that takes away the \"$\" symbol and the \",\" from the prices, so we can then convert them to float type and get the average price"
   ]
  },
  {
   "cell_type": "code",
   "execution_count": 11,
   "metadata": {},
   "outputs": [],
   "source": [
    "def extract_price(price):\n",
    "    price = price.lstrip('$').replace(',', '')\n",
    "    return price"
   ]
  },
  {
   "cell_type": "code",
   "execution_count": 12,
   "metadata": {},
   "outputs": [],
   "source": [
    "extract_price_udf = f.udf(extract_price)"
   ]
  },
  {
   "cell_type": "markdown",
   "metadata": {},
   "source": [
    "This is not working, don't know why. It's the same thing Patrick did in class on \"Introduction to Spark\""
   ]
  },
  {
   "cell_type": "code",
   "execution_count": 13,
   "metadata": {},
   "outputs": [
    {
     "name": "stdout",
     "output_type": "stream",
     "text": [
      "+-----+\n",
      "|price|\n",
      "+-----+\n",
      "|100.0|\n",
      "| 70.0|\n",
      "| 17.0|\n",
      "| 80.0|\n",
      "|115.0|\n",
      "+-----+\n",
      "only showing top 5 rows\n",
      "\n",
      "root\n",
      " |-- price: float (nullable = true)\n",
      "\n"
     ]
    }
   ],
   "source": [
    "#import org.apache.spark.sql.types.FloatType\n",
    "\n",
    "madrid_prices2 = madrid_prices.withColumn('price_new', extract_price_udf(f.col('price'))).select('price_new')\n",
    "madrid_prices_parsed = madrid_prices2.withColumn(\"price\", f.col(\"price_new\").cast(\"float\")).drop('price_new')\n",
    "madrid_prices_parsed.show(5)\n",
    "madrid_prices_parsed.printSchema()\n"
   ]
  },
  {
   "cell_type": "markdown",
   "metadata": {},
   "source": [
    "- Average does not work since price is still string type\n",
    "- Min price is wrong since we need to take out the commas "
   ]
  },
  {
   "cell_type": "code",
   "execution_count": 20,
   "metadata": {},
   "outputs": [
    {
     "name": "stdout",
     "output_type": "stream",
     "text": [
      "+----------+----------+------------------+\n",
      "|min(price)|max(price)|        avg(price)|\n",
      "+----------+----------+------------------+\n",
      "|       8.0|    9999.0|134.31707198914833|\n",
      "+----------+----------+------------------+\n",
      "\n"
     ]
    }
   ],
   "source": [
    "# Min, max, and average price\n",
    "madrid_prices_parsed.select(f.min('price'), f.max('price'), f.avg('price')).show()\n",
    "row1 = madrid_prices_parsed.agg({\"price\": \"max\"}).collect()[0]\n"
   ]
  },
  {
   "cell_type": "markdown",
   "metadata": {},
   "source": [
    "Compute and visualize the distribution of listing prices in your city."
   ]
  },
  {
   "cell_type": "code",
   "execution_count": null,
   "metadata": {},
   "outputs": [],
   "source": [
    "# Don't know what \"distribution of listing prices\" means honestly"
   ]
  },
  {
   "cell_type": "markdown",
   "metadata": {},
   "source": [
    "The value of a listing is its rating divided by its price.\n",
    "\n",
    "Compute and show a dataframe with the 3 highest valued listings in each neighbourhood."
   ]
  },
  {
   "cell_type": "code",
   "execution_count": 84,
   "metadata": {},
   "outputs": [
    {
     "name": "stdout",
     "output_type": "stream",
     "text": [
      "+--------------------+--------------------+\n",
      "|       neighbourhood|max(valued_listings)|\n",
      "+--------------------+--------------------+\n",
      "|Enskede-Årsta-Vantör|                33.0|\n",
      "|         Kungsholmen|               102.0|\n",
      "|       Rinkeby-Kista|                18.0|\n",
      "|           Skarpnäck|                57.0|\n",
      "|                null|                 1.0|\n",
      "|            Norrmalm|                79.0|\n",
      "|       Spånga-Tensta|                28.0|\n",
      "|Hägersten-Liljeho...|                85.0|\n",
      "|              Älvsjö|                40.0|\n",
      "|  Hässelby-Vällingby|                25.0|\n",
      "|           Södermalm|                92.0|\n",
      "|              Farsta|                36.0|\n",
      "|          Skärholmen|                23.0|\n",
      "|              Bromma|                88.0|\n",
      "|           Östermalm|                59.0|\n",
      "+--------------------+--------------------+\n",
      "\n"
     ]
    }
   ],
   "source": [
    "# Still need to drop null values on prices and ratings\n",
    "# I only managed to get the max higuest valued listing for each neighbourhood,\n",
    "# still need to think how to get the top 3\n",
    "\n",
    "# Madrid is pretty fucked up -> guess Stockholm has better data\n",
    "\n",
    "basic_df_listings = df.select('name', 'city', 'neighbourhood', 'host_listings_count', extract_price_udf(f.col('price')).alias('price'), 'review_scores_rating')\n",
    "basic_listings = basic_df_listings.filter(f.col('city') == 'Stockholm').select('neighbourhood', 'name', 'host_listings_count', f.round((f.col('price').cast(\"float\")/f.col('review_scores_rating').cast(\"float\"))).alias('valued_listings'))\n",
    "higuest_listings = basic_listings.groupBy('neighbourhood').agg(f.max('valued_listings')).show(20)\n"
   ]
  },
  {
   "cell_type": "markdown",
   "metadata": {},
   "source": [
    "## Trends\n",
    "Now we want to analyze the \"popularity\" of your city. The data does not contain the number of bookings per listing, but we have a large number of reviews, and we will assume that this is a good indicator of activity on listings."
   ]
  },
  {
   "cell_type": "markdown",
   "metadata": {},
   "source": [
    "Compute and visualize the popularity (i.e., number of reviews) of your city over time."
   ]
  },
  {
   "cell_type": "code",
   "execution_count": null,
   "metadata": {},
   "outputs": [],
   "source": []
  },
  {
   "cell_type": "markdown",
   "metadata": {},
   "source": [
    "Compute and visualize the popularity of neighbourhoods over time. If there are many neighbourhoods in your city, you should select a few interesting ones for comparison."
   ]
  },
  {
   "cell_type": "code",
   "execution_count": null,
   "metadata": {},
   "outputs": [],
   "source": []
  },
  {
   "cell_type": "markdown",
   "metadata": {},
   "source": [
    "Compute and visualize the popularity of your city by season. For example, visualize the popularity of your city per month."
   ]
  },
  {
   "cell_type": "code",
   "execution_count": null,
   "metadata": {},
   "outputs": [],
   "source": []
  },
  {
   "cell_type": "markdown",
   "metadata": {},
   "source": [
    "## Reviews\n",
    "In this part you should determine which words used in reviews that are the most positive. \n",
    "\n",
    "The individual reviews do not have a rating of the listing, so we will assume that each review gave the average rating to the listing, i.e., the one on the listing.\n",
    "\n",
    "You should assign a positivity weight to each word seen in reviews and list the words with the highest weight. It is up to you to decide what the weight should be. For example, it can be a function of the rating on the listing on which it occurs, the number of reviews it occurs in, and the number of unique listings for which it was used to review.\n",
    "\n",
    "Depending on your choice of weight function, you may also want to do some filtering of words. For example, remove words that only occur in a few reviews."
   ]
  },
  {
   "cell_type": "code",
   "execution_count": null,
   "metadata": {},
   "outputs": [],
   "source": []
  }
 ],
 "metadata": {
  "kernelspec": {
   "display_name": "Python 3",
   "language": "python",
   "name": "python3"
  },
  "language_info": {
   "codemirror_mode": {
    "name": "ipython",
    "version": 3
   },
   "file_extension": ".py",
   "mimetype": "text/x-python",
   "name": "python",
   "nbconvert_exporter": "python",
   "pygments_lexer": "ipython3",
   "version": "3.7.5"
  }
 },
 "nbformat": 4,
 "nbformat_minor": 2
}
